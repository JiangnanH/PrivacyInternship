{
 "cells": [
  {
   "cell_type": "code",
   "execution_count": 1,
   "metadata": {
    "ExecuteTime": {
     "end_time": "2021-03-03T13:06:18.968975Z",
     "start_time": "2021-03-03T13:06:14.847234Z"
    }
   },
   "outputs": [],
   "source": [
    "import os\n",
    "import numpy as np\n",
    "import pandas as pd\n",
    "import matplotlib.pyplot as plt\n",
    "import matplotlib.image as mpimg\n",
    "import pickle as pkl"
   ]
  },
  {
   "cell_type": "code",
   "execution_count": 3,
   "metadata": {},
   "outputs": [],
   "source": [
    "os.chdir(\"../data/nist\")"
   ]
  },
  {
   "cell_type": "code",
   "execution_count": 4,
   "metadata": {},
   "outputs": [
    {
     "name": "stdout",
     "output_type": "stream",
     "text": [
      "HSF_0_byIMG.pkl   HSF_1_paths.pkl   HSF_3_labels.npy  HSF_6_images.npy\r\n",
      "HSF_0_images.npy  HSF_2_byIMG.pkl   HSF_3_paths.pkl   HSF_6_labels.npy\r\n",
      "HSF_0_labels.npy  HSF_2_images.npy  HSF_4_byIMG.pkl   HSF_6_paths.pkl\r\n",
      "HSF_0_paths.pkl   HSF_2_labels.npy  HSF_4_images.npy  HSF_7_byIMG.pkl\r\n",
      "HSF_1_byIMG.pkl   HSF_2_paths.pkl   HSF_4_labels.npy  HSF_7_images.npy\r\n",
      "HSF_1_images.npy  HSF_3_byIMG.pkl   HSF_4_paths.pkl   HSF_7_labels.npy\r\n",
      "HSF_1_labels.npy  HSF_3_images.npy  HSF_6_byIMG.pkl   HSF_7_paths.pkl\r\n"
     ]
    }
   ],
   "source": [
    "!ls"
   ]
  },
  {
   "cell_type": "code",
   "execution_count": 6,
   "metadata": {},
   "outputs": [],
   "source": [
    "hsf = 4\n",
    "with open('HSF_'+str(hsf)+'_images.npy','rb') as f:\n",
    "    images = np.load(f)\n",
    "\n",
    "with open('HSF_'+str(hsf)+'_labels.npy','rb') as f:\n",
    "    labels = np.load(f)\n",
    "    \n",
    "with open('HSF_'+str(hsf)+'_paths.pkl','rb') as f:\n",
    "    paths = pkl.load(f)\n",
    "    \n",
    "with open('HSF_'+str(hsf)+'_byIMG.pkl','rb') as f:\n",
    "    byIMG = pkl.load(f)\n",
    "    \n",
    "#with open('HSF_'+str(hsf)+'_dupes.pkl','rb') as f:\n",
    "    #dupes = pkl.load(f)"
   ]
  },
  {
   "cell_type": "code",
   "execution_count": 7,
   "metadata": {},
   "outputs": [
    {
     "data": {
      "image/png": "[encoded data removed]",
      "text/plain": [
       "<Figure size 432x288 with 1 Axes>"
      ]
     },
     "metadata": {
      "needs_background": "light"
     },
     "output_type": "display_data"
    }
   ],
   "source": [
    "img = 6305 # the index is the 4th column of byIMG, and the 6th entry in paths\n",
    "plt.imshow(np.unpackbits(images[img,:]).reshape((128,128)))\n",
    "plt.title(\"label = \" + str(labels[img]))\n",
    "plt.show()"
   ]
  },
  {
   "cell_type": "code",
   "execution_count": 8,
   "metadata": {},
   "outputs": [],
   "source": [
    "#dupes"
   ]
  },
  {
   "cell_type": "code",
   "execution_count": 10,
   "metadata": {},
   "outputs": [
    {
     "ename": "NameError",
     "evalue": "name 'dupes' is not defined",
     "output_type": "error",
     "traceback": [
      "\u001b[0;31m---------------------------------------------------------------------------\u001b[0m",
      "\u001b[0;31mNameError\u001b[0m                                 Traceback (most recent call last)",
      "\u001b[0;32m<ipython-input-10-18742794077a>\u001b[0m in \u001b[0;36m<module>\u001b[0;34m\u001b[0m\n\u001b[0;32m----> 1\u001b[0;31m \u001b[0mimg41\u001b[0m \u001b[0;34m=\u001b[0m \u001b[0mmpimg\u001b[0m\u001b[0;34m.\u001b[0m\u001b[0mimread\u001b[0m\u001b[0;34m(\u001b[0m\u001b[0mdupes\u001b[0m\u001b[0;34m[\u001b[0m\u001b[0;36m0\u001b[0m\u001b[0;34m]\u001b[0m\u001b[0;34m[\u001b[0m\u001b[0;36m0\u001b[0m\u001b[0;34m]\u001b[0m\u001b[0;34m)\u001b[0m\u001b[0;34m\u001b[0m\u001b[0;34m\u001b[0m\u001b[0m\n\u001b[0m\u001b[1;32m      2\u001b[0m \u001b[0mimg42\u001b[0m \u001b[0;34m=\u001b[0m \u001b[0mmpimg\u001b[0m\u001b[0;34m.\u001b[0m\u001b[0mimread\u001b[0m\u001b[0;34m(\u001b[0m\u001b[0mdupes\u001b[0m\u001b[0;34m[\u001b[0m\u001b[0;36m0\u001b[0m\u001b[0;34m]\u001b[0m\u001b[0;34m[\u001b[0m\u001b[0;36m1\u001b[0m\u001b[0;34m]\u001b[0m\u001b[0;34m)\u001b[0m\u001b[0;34m\u001b[0m\u001b[0;34m\u001b[0m\u001b[0m\n\u001b[1;32m      3\u001b[0m \u001b[0mplt\u001b[0m\u001b[0;34m.\u001b[0m\u001b[0msubplot\u001b[0m\u001b[0;34m(\u001b[0m\u001b[0;36m1\u001b[0m\u001b[0;34m,\u001b[0m\u001b[0;36m2\u001b[0m\u001b[0;34m,\u001b[0m\u001b[0;36m1\u001b[0m\u001b[0;34m)\u001b[0m\u001b[0;34m\u001b[0m\u001b[0;34m\u001b[0m\u001b[0m\n\u001b[1;32m      4\u001b[0m \u001b[0mplt\u001b[0m\u001b[0;34m.\u001b[0m\u001b[0mimshow\u001b[0m\u001b[0;34m(\u001b[0m\u001b[0mimg41\u001b[0m\u001b[0;34m)\u001b[0m\u001b[0;34m\u001b[0m\u001b[0;34m\u001b[0m\u001b[0m\n\u001b[1;32m      5\u001b[0m \u001b[0;31m#plt.title(dupes[0][0][-18:-4])\u001b[0m\u001b[0;34m\u001b[0m\u001b[0;34m\u001b[0m\u001b[0;34m\u001b[0m\u001b[0m\n",
      "\u001b[0;31mNameError\u001b[0m: name 'dupes' is not defined"
     ]
    }
   ],
   "source": [
    "img41 = mpimg.imread(dupes[0][0])\n",
    "img42 = mpimg.imread(dupes[0][1])\n",
    "plt.subplot(1,2,1)\n",
    "plt.imshow(img41)\n",
    "#plt.title(dupes[0][0][-18:-4])\n",
    "plt.subplot(1,2,2)\n",
    "plt.imshow(img42)\n",
    "#plt.title(dupes[0][1][-18:-4])\n",
    "plt.show()"
   ]
  },
  {
   "cell_type": "code",
   "execution_count": 8,
   "metadata": {},
   "outputs": [
    {
     "data": {
      "text/plain": [
       "(58645, 2048)"
      ]
     },
     "execution_count": 8,
     "metadata": {},
     "output_type": "execute_result"
    }
   ],
   "source": [
    "images.shape"
   ]
  },
  {
   "cell_type": "code",
   "execution_count": 9,
   "metadata": {},
   "outputs": [
    {
     "data": {
      "text/plain": [
       "(58645,)"
      ]
     },
     "execution_count": 9,
     "metadata": {},
     "output_type": "execute_result"
    }
   ],
   "source": [
    "labels.shape"
   ]
  },
  {
   "cell_type": "code",
   "execution_count": 10,
   "metadata": {},
   "outputs": [
    {
     "data": {
      "text/plain": [
       "58645"
      ]
     },
     "execution_count": 10,
     "metadata": {},
     "output_type": "execute_result"
    }
   ],
   "source": [
    "len(byIMG)"
   ]
  },
  {
   "cell_type": "code",
   "execution_count": 11,
   "metadata": {},
   "outputs": [
    {
     "data": {
      "text/plain": [
       "58646"
      ]
     },
     "execution_count": 11,
     "metadata": {},
     "output_type": "execute_result"
    }
   ],
   "source": [
    "len(paths)"
   ]
  },
  {
   "cell_type": "markdown",
   "metadata": {},
   "source": [
    "### byIMG : data frame with 5 columns\n",
    "1. path in by_field, \n",
    "1. file name in by_field, \n",
    "1. label (i.e. digit), \n",
    "1. index in numpy array, \n",
    "1. path in by_write"
   ]
  },
  {
   "cell_type": "code",
   "execution_count": 12,
   "metadata": {
    "scrolled": true
   },
   "outputs": [
    {
     "data": {
      "text/html": [
       "<div>\n",
       "<style scoped>\n",
       "    .dataframe tbody tr th:only-of-type {\n",
       "        vertical-align: middle;\n",
       "    }\n",
       "\n",
       "    .dataframe tbody tr th {\n",
       "        vertical-align: top;\n",
       "    }\n",
       "\n",
       "    .dataframe thead th {\n",
       "        text-align: right;\n",
       "    }\n",
       "</style>\n",
       "<table border=\"1\" class=\"dataframe\">\n",
       "  <thead>\n",
       "    <tr style=\"text-align: right;\">\n",
       "      <th></th>\n",
       "      <th>0</th>\n",
       "      <th>1</th>\n",
       "      <th>2</th>\n",
       "      <th>3</th>\n",
       "      <th>4</th>\n",
       "    </tr>\n",
       "  </thead>\n",
       "  <tbody>\n",
       "    <tr>\n",
       "      <th>0</th>\n",
       "      <td>by_field/hsf_4/digit/30/30_03718.png</td>\n",
       "      <td>30_03718.png</td>\n",
       "      <td>0</td>\n",
       "      <td>33833</td>\n",
       "      <td>by_write/hsf_4/f2437_50/d2437_50/d2437_50_0000...</td>\n",
       "    </tr>\n",
       "    <tr>\n",
       "      <th>1</th>\n",
       "      <td>by_field/hsf_4/digit/30/30_02158.png</td>\n",
       "      <td>30_02158.png</td>\n",
       "      <td>0</td>\n",
       "      <td>6305</td>\n",
       "      <td>by_write/hsf_4/f2297_69/d2297_69/d2297_69_0001...</td>\n",
       "    </tr>\n",
       "    <tr>\n",
       "      <th>2</th>\n",
       "      <td>by_field/hsf_4/digit/30/30_04713.png</td>\n",
       "      <td>30_04713.png</td>\n",
       "      <td>0</td>\n",
       "      <td>33320</td>\n",
       "      <td>by_write/hsf_4/f2525_62/d2525_62/d2525_62_0006...</td>\n",
       "    </tr>\n",
       "    <tr>\n",
       "      <th>3</th>\n",
       "      <td>by_field/hsf_4/digit/30/30_05153.png</td>\n",
       "      <td>30_05153.png</td>\n",
       "      <td>0</td>\n",
       "      <td>7991</td>\n",
       "      <td>by_write/hsf_4/f2564_59/d2564_59/d2564_59_0006...</td>\n",
       "    </tr>\n",
       "    <tr>\n",
       "      <th>4</th>\n",
       "      <td>by_field/hsf_4/digit/30/30_02539.png</td>\n",
       "      <td>30_02539.png</td>\n",
       "      <td>0</td>\n",
       "      <td>38941</td>\n",
       "      <td>by_write/hsf_4/f2332_97/d2332_97/d2332_97_0007...</td>\n",
       "    </tr>\n",
       "  </tbody>\n",
       "</table>\n",
       "</div>"
      ],
      "text/plain": [
       "                                      0             1  2      3  \\\n",
       "0  by_field/hsf_4/digit/30/30_03718.png  30_03718.png  0  33833   \n",
       "1  by_field/hsf_4/digit/30/30_02158.png  30_02158.png  0   6305   \n",
       "2  by_field/hsf_4/digit/30/30_04713.png  30_04713.png  0  33320   \n",
       "3  by_field/hsf_4/digit/30/30_05153.png  30_05153.png  0   7991   \n",
       "4  by_field/hsf_4/digit/30/30_02539.png  30_02539.png  0  38941   \n",
       "\n",
       "                                                   4  \n",
       "0  by_write/hsf_4/f2437_50/d2437_50/d2437_50_0000...  \n",
       "1  by_write/hsf_4/f2297_69/d2297_69/d2297_69_0001...  \n",
       "2  by_write/hsf_4/f2525_62/d2525_62/d2525_62_0006...  \n",
       "3  by_write/hsf_4/f2564_59/d2564_59/d2564_59_0006...  \n",
       "4  by_write/hsf_4/f2332_97/d2332_97/d2332_97_0007...  "
      ]
     },
     "execution_count": 12,
     "metadata": {},
     "output_type": "execute_result"
    }
   ],
   "source": [
    "byIMG.head()"
   ]
  },
  {
   "cell_type": "markdown",
   "metadata": {},
   "source": [
    "### paths : dictionary, with values that are lists of 6 items\n",
    "1. file name in by_write, \n",
    "1. author, \n",
    "1. path in by_field, \n",
    "1. file name in by_field, \n",
    "1. label (i.e. digit)\n",
    "1. index in numpy array"
   ]
  },
  {
   "cell_type": "code",
   "execution_count": 13,
   "metadata": {
    "scrolled": true
   },
   "outputs": [
    {
     "data": {
      "text/plain": [
       "'by_write/hsf_4/f2596_86/d2596_86/d2596_86_00112.png'"
      ]
     },
     "execution_count": 13,
     "metadata": {},
     "output_type": "execute_result"
    }
   ],
   "source": [
    "next(iter(paths))"
   ]
  },
  {
   "cell_type": "code",
   "execution_count": 14,
   "metadata": {},
   "outputs": [
    {
     "data": {
      "text/plain": [
       "['d2596_86_00112.png',\n",
       " 'f2596_86',\n",
       " 'by_field/hsf_4/digit/35/35_05505.png',\n",
       " '35_05505.png',\n",
       " '5',\n",
       " 0]"
      ]
     },
     "execution_count": 14,
     "metadata": {},
     "output_type": "execute_result"
    }
   ],
   "source": [
    "next(iter(paths.values()))"
   ]
  },
  {
   "cell_type": "code",
   "execution_count": 22,
   "metadata": {},
   "outputs": [],
   "source": [
    "df_paths = pd.DataFrame.from_dict(paths, orient='index')"
   ]
  },
  {
   "cell_type": "code",
   "execution_count": 33,
   "metadata": {},
   "outputs": [],
   "source": [
    "column_dict={'index': \"path_in_bywrite\", 0: \"filename_in_bywrite\", 1: \"author_id\", \n",
    "             2: \"path_in_byfield\", 3: \"filename_in_byfield\",4:'label', 5:'array_index'}"
   ]
  },
  {
   "cell_type": "code",
   "execution_count": 35,
   "metadata": {},
   "outputs": [],
   "source": [
    "df_paths = df_paths.reset_index().rename(columns=column_dict)"
   ]
  },
  {
   "cell_type": "code",
   "execution_count": 40,
   "metadata": {},
   "outputs": [
    {
     "data": {
      "text/plain": [
       "count        58646\n",
       "unique         500\n",
       "top       f2406_72\n",
       "freq           134\n",
       "Name: author_id, dtype: object"
      ]
     },
     "execution_count": 40,
     "metadata": {},
     "output_type": "execute_result"
    }
   ],
   "source": [
    "df_paths.author_id.describe()"
   ]
  }
 ],
 "metadata": {
  "kernelspec": {
   "display_name": "Python 3",
   "language": "python",
   "name": "python3"
  },
  "language_info": {
   "codemirror_mode": {
    "name": "ipython",
    "version": 3
   },
   "file_extension": ".py",
   "mimetype": "text/x-python",
   "name": "python",
   "nbconvert_exporter": "python",
   "pygments_lexer": "ipython3",
   "version": "3.6.13"
  }
 },
 "nbformat": 4,
 "nbformat_minor": 2
}
