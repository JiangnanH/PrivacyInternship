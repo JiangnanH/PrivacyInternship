{
 "cells": [
  {
   "cell_type": "markdown",
   "metadata": {},
   "source": [
    "# Requirement:\n",
    "- numpy 1.19.5\n",
    "- tensorflow 2.5.0\n",
    "- tensorflow_privacy 0.6.1\n",
    "- sklearn 0.24.2\n",
    "- xgboost 1.4.2\n",
    "\n",
    "Before performing the experiments, you need to fit the **mia_path** (path for MIA package) and **pickle_file**(path for tabular QMNIST data) according to your own PC."
   ]
  },
  {
   "cell_type": "code",
   "execution_count": 1,
   "metadata": {
    "id": "iYdgdZMocHNk"
   },
   "outputs": [],
   "source": [
    "mia_path = './MIA'\n",
    "\n",
    "import sys\n",
    "sys.path.append(mia_path)\n",
    "\n",
    "import numpy as np\n",
    "\n",
    "import pickle\n",
    "import tensorflow as tf\n",
    "from tensorflow.keras import layers\n",
    "\n",
    "from sklearn.model_selection import train_test_split\n",
    "\n",
    "from mia.estimators import ShadowModelBundle, AttackModelBundle, prepare_attack_data"
   ]
  },
  {
   "cell_type": "markdown",
   "metadata": {
    "id": "xuMDw0xmAH-d"
   },
   "source": [
    "# Load QMNIST data."
   ]
  },
  {
   "cell_type": "code",
   "execution_count": 3,
   "metadata": {
    "colab": {
     "base_uri": "https://localhost:8080/"
    },
    "id": "yOBOLaM6ghKD",
    "outputId": "4191ad8b-6f65-4ad6-87e6-fc1d695cb81a"
   },
   "outputs": [
    {
     "name": "stdout",
     "output_type": "stream",
     "text": [
      "Data loaded.\n"
     ]
    }
   ],
   "source": [
    "pickle_file = '/home/jiangnan/Desktop/dataset/QMNIST_tabular.pickle'\n",
    "\n",
    "with open(pickle_file, 'rb') as f:\n",
    "  pickle_data = pickle.load(f)\n",
    "  x_defender = pickle_data['x_private']\n",
    "  x_reserve = pickle_data['x_reserved']\n",
    "  y_defender = pickle_data['y_private']\n",
    "  y_reserve = pickle_data['y_reserved']\n",
    "  del pickle_data\n",
    "print('Data loaded.')"
   ]
  },
  {
   "cell_type": "code",
   "execution_count": 4,
   "metadata": {
    "id": "qW1n24bvs6nP"
   },
   "outputs": [],
   "source": [
    "NUM_CLASSES = 10\n",
    "\n",
    "y_defender = y_defender[:,0]\n",
    "y_reserve = y_reserve[:,0]\n",
    "\n",
    "y_defender = np.expand_dims(y_defender,axis=1)\n",
    "y_reserve = np.expand_dims(y_reserve,axis=1)\n",
    "\n",
    "y_defender = tf.keras.utils.to_categorical(y_defender, num_classes=NUM_CLASSES)\n",
    "y_reserve = tf.keras.utils.to_categorical(y_reserve, num_classes=NUM_CLASSES)"
   ]
  },
  {
   "cell_type": "markdown",
   "metadata": {
    "id": "8TfaWzhkATJq"
   },
   "source": [
    "# Defender model $M_D$"
   ]
  },
  {
   "cell_type": "code",
   "execution_count": 5,
   "metadata": {
    "id": "WjQgTR5vcerZ"
   },
   "outputs": [],
   "source": [
    "#l2_norm_clip = 1.0\n",
    "#noise_multiplier = 1.1\n",
    "\n",
    "def defender_model_fn():\n",
    "    \"\"\"The architecture of the defender (victim) model.\n",
    "    The attack is white-box, hence the attacker is assumed to know this architecture too.\"\"\"\n",
    "\n",
    "    model = tf.keras.models.Sequential([\n",
    "    tf.keras.layers.Flatten(),\n",
    "    tf.keras.layers.Dense(128, activation=tf.nn.relu),\n",
    "    tf.keras.layers.Dense(10, activation=tf.nn.softmax)\n",
    "    ])\n",
    "    \n",
    "    ##if train_with_DP:\n",
    "    ##from tensorflow_privacy.privacy.optimizers.dp_optimizer_keras import DPKerasSGDOptimizer\n",
    "    ##train_op = DPKerasSGDOptimizer(\n",
    "    ##    l2_norm_clip=l2_norm_clip,\n",
    "    ##    noise_multiplier=noise_multiplier,\n",
    "    ##    num_microbatches=1, # Possible problem after reducing the size of cost vector in tensorflow-privacy. Check: https://github.com/tensorflow/privacy/issues/17\n",
    "    ##    learning_rate=1e-4\n",
    "    ##    )\n",
    "    ##else:\n",
    "    \n",
    "    train_op = tf.optimizers.Adam(1e-4)\n",
    "    \n",
    "    model.compile(optimizer=train_op,\n",
    "                  loss='categorical_crossentropy',\n",
    "                  metrics=['accuracy'])\n",
    "    return model\n"
   ]
  },
  {
   "cell_type": "markdown",
   "metadata": {
    "id": "dbNvGhsvAwUX"
   },
   "source": [
    "## Train $M_D$ (For this version there is no \"mock attacker\")"
   ]
  },
  {
   "cell_type": "code",
   "execution_count": 28,
   "metadata": {
    "colab": {
     "base_uri": "https://localhost:8080/"
    },
    "id": "6VXxf4j0hC69",
    "outputId": "2ec6a762-3f61-4198-9588-5e192609a5dd"
   },
   "outputs": [
    {
     "name": "stdout",
     "output_type": "stream",
     "text": [
      "Training the defender model...\n",
      "Epoch 1/30\n",
      "157/157 [==============================] - 1s 3ms/step - loss: 5.1662 - accuracy: 0.3930 - val_loss: 1.9022 - val_accuracy: 0.6062\n",
      "Epoch 2/30\n",
      "157/157 [==============================] - 0s 3ms/step - loss: 1.2524 - accuracy: 0.7156 - val_loss: 1.0761 - val_accuracy: 0.7422\n",
      "Epoch 3/30\n",
      "157/157 [==============================] - 0s 3ms/step - loss: 0.7783 - accuracy: 0.8008 - val_loss: 0.7831 - val_accuracy: 0.8036\n",
      "Epoch 4/30\n",
      "157/157 [==============================] - 0s 3ms/step - loss: 0.5704 - accuracy: 0.8498 - val_loss: 0.6611 - val_accuracy: 0.8346\n",
      "Epoch 5/30\n",
      "157/157 [==============================] - 0s 2ms/step - loss: 0.4496 - accuracy: 0.8802 - val_loss: 0.5769 - val_accuracy: 0.8588\n",
      "Epoch 6/30\n",
      "157/157 [==============================] - 0s 3ms/step - loss: 0.3692 - accuracy: 0.8984 - val_loss: 0.5212 - val_accuracy: 0.8658\n",
      "Epoch 7/30\n",
      "157/157 [==============================] - 0s 2ms/step - loss: 0.3059 - accuracy: 0.9146 - val_loss: 0.4758 - val_accuracy: 0.8778\n",
      "Epoch 8/30\n",
      "157/157 [==============================] - 0s 2ms/step - loss: 0.2635 - accuracy: 0.9262 - val_loss: 0.4577 - val_accuracy: 0.8858\n",
      "Epoch 9/30\n",
      "157/157 [==============================] - 0s 3ms/step - loss: 0.2287 - accuracy: 0.9374 - val_loss: 0.4347 - val_accuracy: 0.8894\n",
      "Epoch 10/30\n",
      "157/157 [==============================] - 0s 2ms/step - loss: 0.2009 - accuracy: 0.9442 - val_loss: 0.4115 - val_accuracy: 0.8952\n",
      "Epoch 11/30\n",
      "157/157 [==============================] - 0s 2ms/step - loss: 0.1758 - accuracy: 0.9510 - val_loss: 0.4041 - val_accuracy: 0.8962\n",
      "Epoch 12/30\n",
      "157/157 [==============================] - 0s 3ms/step - loss: 0.1582 - accuracy: 0.9588 - val_loss: 0.3877 - val_accuracy: 0.9044\n",
      "Epoch 13/30\n",
      "157/157 [==============================] - 0s 2ms/step - loss: 0.1390 - accuracy: 0.9630 - val_loss: 0.3728 - val_accuracy: 0.9072\n",
      "Epoch 14/30\n",
      "157/157 [==============================] - 0s 2ms/step - loss: 0.1289 - accuracy: 0.9670 - val_loss: 0.3545 - val_accuracy: 0.9120\n",
      "Epoch 15/30\n",
      "157/157 [==============================] - 0s 2ms/step - loss: 0.1152 - accuracy: 0.9720 - val_loss: 0.3493 - val_accuracy: 0.9138\n",
      "Epoch 16/30\n",
      "157/157 [==============================] - 0s 3ms/step - loss: 0.1044 - accuracy: 0.9744 - val_loss: 0.3523 - val_accuracy: 0.9126\n",
      "Epoch 17/30\n",
      "157/157 [==============================] - 0s 3ms/step - loss: 0.0982 - accuracy: 0.9754 - val_loss: 0.3393 - val_accuracy: 0.9180\n",
      "Epoch 18/30\n",
      "157/157 [==============================] - 0s 3ms/step - loss: 0.0897 - accuracy: 0.9748 - val_loss: 0.3324 - val_accuracy: 0.9186\n",
      "Epoch 19/30\n",
      "157/157 [==============================] - 0s 2ms/step - loss: 0.0800 - accuracy: 0.9792 - val_loss: 0.3320 - val_accuracy: 0.9184\n",
      "Epoch 20/30\n",
      "157/157 [==============================] - 0s 3ms/step - loss: 0.0740 - accuracy: 0.9800 - val_loss: 0.3272 - val_accuracy: 0.9196\n",
      "Epoch 21/30\n",
      "157/157 [==============================] - 0s 3ms/step - loss: 0.0672 - accuracy: 0.9814 - val_loss: 0.3167 - val_accuracy: 0.9226\n",
      "Epoch 22/30\n",
      "157/157 [==============================] - 0s 3ms/step - loss: 0.0609 - accuracy: 0.9846 - val_loss: 0.3174 - val_accuracy: 0.9196\n",
      "Epoch 23/30\n",
      "157/157 [==============================] - 0s 3ms/step - loss: 0.0558 - accuracy: 0.9860 - val_loss: 0.3221 - val_accuracy: 0.9186\n",
      "Epoch 24/30\n",
      "157/157 [==============================] - 0s 2ms/step - loss: 0.0524 - accuracy: 0.9870 - val_loss: 0.3111 - val_accuracy: 0.9252\n",
      "Epoch 25/30\n",
      "157/157 [==============================] - 0s 2ms/step - loss: 0.0469 - accuracy: 0.9900 - val_loss: 0.3018 - val_accuracy: 0.9276\n",
      "Epoch 26/30\n",
      "157/157 [==============================] - 0s 2ms/step - loss: 0.0443 - accuracy: 0.9896 - val_loss: 0.3095 - val_accuracy: 0.9238\n",
      "Epoch 27/30\n",
      "157/157 [==============================] - 0s 3ms/step - loss: 0.0412 - accuracy: 0.9894 - val_loss: 0.3069 - val_accuracy: 0.9252\n",
      "Epoch 28/30\n",
      "157/157 [==============================] - 0s 3ms/step - loss: 0.0381 - accuracy: 0.9908 - val_loss: 0.3017 - val_accuracy: 0.9306\n",
      "Epoch 29/30\n",
      "157/157 [==============================] - 0s 2ms/step - loss: 0.0343 - accuracy: 0.9922 - val_loss: 0.3024 - val_accuracy: 0.9274\n",
      "Epoch 30/30\n",
      "157/157 [==============================] - 0s 2ms/step - loss: 0.0306 - accuracy: 0.9946 - val_loss: 0.2957 - val_accuracy: 0.9310\n"
     ]
    },
    {
     "data": {
      "text/plain": [
       "<tensorflow.python.keras.callbacks.History at 0x7f6a3077cfd0>"
      ]
     },
     "execution_count": 28,
     "metadata": {},
     "output_type": "execute_result"
    }
   ],
   "source": [
    "number_records = 10000\n",
    "\n",
    "# Train the defender model.\n",
    "print(\"Training the defender model...\")\n",
    "defender_model = defender_model_fn()\n",
    "defender_model.fit(\n",
    "    x_defender[:number_records], y_defender[:number_records], epochs=30, batch_size = 32, validation_split=0.5, verbose=True\n",
    ")"
   ]
  },
  {
   "cell_type": "code",
   "execution_count": 7,
   "metadata": {
    "colab": {
     "base_uri": "https://localhost:8080/"
    },
    "id": "dcHiSe6lTIDl",
    "outputId": "225dd257-f918-4e63-f339-56fdd636025f"
   },
   "outputs": [
    {
     "name": "stdout",
     "output_type": "stream",
     "text": [
      "Model: \"sequential\"\n",
      "_________________________________________________________________\n",
      "Layer (type)                 Output Shape              Param #   \n",
      "=================================================================\n",
      "flatten (Flatten)            (None, 512)               0         \n",
      "_________________________________________________________________\n",
      "dense (Dense)                (None, 128)               65664     \n",
      "_________________________________________________________________\n",
      "dense_1 (Dense)              (None, 10)                1290      \n",
      "=================================================================\n",
      "Total params: 66,954\n",
      "Trainable params: 66,954\n",
      "Non-trainable params: 0\n",
      "_________________________________________________________________\n"
     ]
    }
   ],
   "source": [
    "defender_model.summary()"
   ]
  },
  {
   "cell_type": "markdown",
   "metadata": {
    "id": "BF8tOx1gArS0"
   },
   "source": [
    "## Evaluate the utility of $M_D$ on utility evaluation dataset $E_U$ (which is equal to reserve dataset $R$).\n",
    "\n",
    "Evaluation metrics: **Accuracy** & **AUC**"
   ]
  },
  {
   "cell_type": "code",
   "execution_count": 8,
   "metadata": {
    "id": "dMQi7hGSGQZL"
   },
   "outputs": [],
   "source": [
    "from sklearn import metrics\n",
    "from sklearn.metrics import log_loss\n",
    "from sklearn.metrics import accuracy_score\n",
    "from sklearn.metrics.pairwise import euclidean_distances"
   ]
  },
  {
   "cell_type": "code",
   "execution_count": 9,
   "metadata": {
    "colab": {
     "base_uri": "https://localhost:8080/"
    },
    "id": "mzjsUgxj-DSH",
    "outputId": "26a1e0b9-deba-4557-8caa-a4e77a7b413b"
   },
   "outputs": [
    {
     "name": "stderr",
     "output_type": "stream",
     "text": [
      "/home/jiangnan/.local/lib/python3.8/site-packages/tensorflow/python/keras/engine/sequential.py:430: UserWarning: `model.predict_proba()` is deprecated and will be removed after 2021-01-01. Please use `model.predict()` instead.\n",
      "  warnings.warn('`model.predict_proba()` is deprecated and '\n"
     ]
    }
   ],
   "source": [
    "# compute the accuracy as acc\n",
    "predict_reserve_proba = defender_model.predict_proba(x_reserve)\n",
    "predict_reserve = np.argmax(predict_reserve_proba, axis=1)\n",
    "label_reserve = np.argmax(y_reserve, axis=1)\n",
    "acc = accuracy_score(label_reserve, predict_reserve)"
   ]
  },
  {
   "cell_type": "code",
   "execution_count": 10,
   "metadata": {
    "id": "kMPG56kw6JDi"
   },
   "outputs": [],
   "source": [
    "auc_by_class = []\n",
    "\n",
    "# compute auc per class then take the average value\n",
    "for i in range(NUM_CLASSES):\n",
    "  class_indices = np.argmax(y_reserve, axis=1) == i\n",
    "  fpr, tpr, thresholds = metrics.roc_curve(class_indices, predict_reserve_proba[:,i])\n",
    "  auc = metrics.auc(fpr, tpr)\n",
    "  auc_by_class.append(auc)\n",
    "\n",
    "average_auc = np.mean(auc_by_class)"
   ]
  },
  {
   "cell_type": "code",
   "execution_count": 11,
   "metadata": {
    "colab": {
     "base_uri": "https://localhost:8080/"
    },
    "id": "a_Rkks7XCdxd",
    "outputId": "5a4d28bb-2102-482b-887e-95b82ec5cb5e"
   },
   "outputs": [
    {
     "name": "stdout",
     "output_type": "stream",
     "text": [
      "Utility of defender model:\n",
      "Acc: 0.9347022332506203\n",
      "Auc: 0.9963099672395271\n"
     ]
    }
   ],
   "source": [
    "print('Utility of defender model:')\n",
    "print('Acc: {}'.format(acc))\n",
    "print('Auc: {}'.format(average_auc))"
   ]
  },
  {
   "cell_type": "code",
   "execution_count": 17,
   "metadata": {
    "id": "phhR98WSPwDh"
   },
   "outputs": [],
   "source": [
    "# if necessary, save or reload the defender model trained\n",
    "\n",
    "#defender_model_path = '/home/jiangnan/Desktop/model/QMNIST_defender_model'\n",
    "#defender_model.save(defender_model_path)\n",
    "\n",
    "#defender_model = tf.keras.models.load_model(defender_model_path)"
   ]
  },
  {
   "cell_type": "markdown",
   "metadata": {
    "id": "LZg1y29Y_-bp"
   },
   "source": [
    "# Attack model $M_A$"
   ]
  },
  {
   "cell_type": "code",
   "execution_count": 29,
   "metadata": {
    "colab": {
     "base_uri": "https://localhost:8080/"
    },
    "id": "A_B1-d8ncikw",
    "outputId": "2b403951-765c-427b-ef89-573e31256334"
   },
   "outputs": [
    {
     "name": "stdout",
     "output_type": "stream",
     "text": [
      "Model: \"sequential_1\"\n",
      "_________________________________________________________________\n",
      "Layer (type)                 Output Shape              Param #   \n",
      "=================================================================\n",
      "flatten_1 (Flatten)          (None, 512)               0         \n",
      "_________________________________________________________________\n",
      "dense_2 (Dense)              (None, 128)               65664     \n",
      "_________________________________________________________________\n",
      "dense_3 (Dense)              (None, 10)                1290      \n",
      "=================================================================\n",
      "Total params: 66,954\n",
      "Trainable params: 66,954\n",
      "Non-trainable params: 0\n",
      "_________________________________________________________________\n",
      "None\n"
     ]
    },
    {
     "name": "stderr",
     "output_type": "stream",
     "text": [
      "/home/jiangnan/.local/lib/python3.8/site-packages/tensorflow/python/keras/engine/sequential.py:430: UserWarning: `model.predict_proba()` is deprecated and will be removed after 2021-01-01. Please use `model.predict()` instead.\n",
      "  warnings.warn('`model.predict_proba()` is deprecated and '\n"
     ]
    }
   ],
   "source": [
    "# Test the success of the attack.\n",
    "\n",
    "# Prepare examples that were in the training, and out of the training.\n",
    "data_in = x_defender[:number_records], y_defender[:number_records]\n",
    "data_out = x_reserve[:number_records], y_reserve[:number_records]\n",
    "\n",
    "# Compile them into the expected format for the AttackModelBundle.\n",
    "attack_test_data, attack_test_data_dense2, real_membership_labels = prepare_attack_data(\n",
    "    defender_model, data_in, data_out\n",
    ")\n"
   ]
  },
  {
   "cell_type": "code",
   "execution_count": 30,
   "metadata": {
    "colab": {
     "base_uri": "https://localhost:8080/"
    },
    "id": "mDt4su_A1Hgd",
    "outputId": "0f60fc8e-2d98-4aab-f9f2-e3bd14a29409"
   },
   "outputs": [
    {
     "name": "stdout",
     "output_type": "stream",
     "text": [
      "(20000, 20)\n",
      "(20000, 138)\n",
      "(20000,)\n"
     ]
    }
   ],
   "source": [
    "print(attack_test_data.shape)\n",
    "print(attack_test_data_dense2.shape)\n",
    "print(real_membership_labels.shape)"
   ]
  },
  {
   "cell_type": "code",
   "execution_count": 31,
   "metadata": {
    "id": "utePp7mWuXNy"
   },
   "outputs": [],
   "source": [
    "import random\n",
    "import xgboost as xgb\n",
    "from tqdm import tqdm"
   ]
  },
  {
   "cell_type": "code",
   "execution_count": 32,
   "metadata": {
    "id": "ngMb7tQGsdWB"
   },
   "outputs": [],
   "source": [
    "# compute euclidean distance(ed) and cross_entropy(ce) loss for each data sample\n",
    "ed = np.array([])\n",
    "ce = np.array([])\n",
    "\n",
    "for i in range(attack_test_data.shape[0]):\n",
    "  ed = np.hstack((ed,euclidean_distances(attack_test_data[i,NUM_CLASSES:].reshape((1,NUM_CLASSES)), attack_test_data[i,:NUM_CLASSES].reshape((1,NUM_CLASSES))).squeeze()))\n",
    "  ce = np.hstack((ce,log_loss(attack_test_data[i,NUM_CLASSES:].reshape((1,NUM_CLASSES)), attack_test_data[i,:NUM_CLASSES].reshape((1,NUM_CLASSES)))))\n",
    "\n",
    "ed = ed.reshape((len(ed),1))\n",
    "ce = ce.reshape((len(ce),1))\n"
   ]
  },
  {
   "cell_type": "markdown",
   "metadata": {
    "id": "Oxe3mL_T0PSf"
   },
   "source": [
    "## Evaluate the dumb Attacker"
   ]
  },
  {
   "cell_type": "code",
   "execution_count": 33,
   "metadata": {
    "colab": {
     "base_uri": "https://localhost:8080/"
    },
    "id": "lSSHIA-SmvUm",
    "outputId": "a7d020da-1b34-4030-93f4-7829f8e70d3d"
   },
   "outputs": [
    {
     "name": "stdout",
     "output_type": "stream",
     "text": [
      "Dumb Attacker AUC: 0.495148485\n"
     ]
    }
   ],
   "source": [
    "fpr, tpr, thresholds = metrics.roc_curve(real_membership_labels, ce)\n",
    "auc = metrics.auc(fpr, tpr)\n",
    "print('Dumb Attacker AUC: {}'.format(auc))"
   ]
  },
  {
   "cell_type": "markdown",
   "metadata": {
    "id": "5AtG4VTs0YIS"
   },
   "source": [
    "## Train & Evaluate the oracle Attacker (Leave two out)"
   ]
  },
  {
   "cell_type": "code",
   "execution_count": 34,
   "metadata": {
    "colab": {
     "base_uri": "https://localhost:8080/"
    },
    "id": "FDbqIKrPnhKD",
    "outputId": "aaeccafb-1d77-43ce-bc5a-554804adf223"
   },
   "outputs": [
    {
     "data": {
      "text/plain": [
       "(20000, 22)"
      ]
     },
     "execution_count": 34,
     "metadata": {},
     "output_type": "execute_result"
    }
   ],
   "source": [
    "# combine the attack_test_data(input of the oracle attack model) with their cross_entropy loss and euclidean distance\n",
    "# but this seems won't help us to get a better attack performance.\n",
    "new_attack_test_data = np.hstack((attack_test_data,ce,ed))\n",
    "new_attack_test_data.shape"
   ]
  },
  {
   "cell_type": "code",
   "execution_count": 62,
   "metadata": {},
   "outputs": [
    {
     "data": {
      "text/plain": [
       "(20000, 150)"
      ]
     },
     "execution_count": 62,
     "metadata": {},
     "output_type": "execute_result"
    }
   ],
   "source": [
    "complete_attack_test_data = np.hstack((attack_test_data_dense2[:,:-10], new_attack_test_data))\n",
    "complete_attack_test_data.shape"
   ]
  },
  {
   "cell_type": "code",
   "execution_count": 63,
   "metadata": {
    "id": "jqcts5TYX7bF"
   },
   "outputs": [],
   "source": [
    "def compute_attack_model(attack_data, attack_labels, trials=1000):\n",
    "  # repeat the evaluating process for 'trials' times.\n",
    "  \n",
    "  xgb_attack_guesses = np.array([])\n",
    "  xgb_attack_proba = np.reshape(np.array([[],[]]),(0,2))\n",
    "  xgb_attack_real = np.array([])\n",
    "\n",
    "\n",
    "  for i in tqdm(range(trials)):\n",
    "\n",
    "    random_index = random.randint(0,number_records)\n",
    "    indexs = [random_index, random_index+number_records]\n",
    "\n",
    "    evaluation_data = attack_data[indexs]\n",
    "    evaluation_label = attack_labels[indexs]\n",
    "\n",
    "    xgb_data = np.delete(attack_data, indexs, axis=0)\n",
    "    xgb_label = np.delete(attack_labels, indexs, axis=0)\n",
    "\n",
    "    xgb_model = xgb.XGBClassifier(objective=\"binary:logistic\", random_state=50, eval_metric='logloss')\n",
    "    xgb_model.fit(attack_data, attack_labels)\n",
    "\n",
    "    xgb_guesses = xgb_model.predict(evaluation_data)\n",
    "    xgb_proba = xgb_model.predict_proba(evaluation_data)\n",
    "\n",
    "    xgb_attack_guesses = np.hstack((xgb_attack_guesses,xgb_guesses))\n",
    "    xgb_attack_proba = np.vstack((xgb_attack_proba,xgb_proba))\n",
    "    xgb_attack_real = np.hstack((xgb_attack_real,evaluation_label))\n",
    "\n",
    "  return xgb_attack_guesses, xgb_attack_proba, xgb_attack_real"
   ]
  },
  {
   "cell_type": "code",
   "execution_count": 68,
   "metadata": {
    "colab": {
     "base_uri": "https://localhost:8080/"
    },
    "id": "jrO1Hk49p82z",
    "outputId": "eb86d9e8-ccb8-49ee-b86e-73fcac547e22"
   },
   "outputs": [
    {
     "name": "stderr",
     "output_type": "stream",
     "text": [
      "  0%|          | 0/100 [00:00<?, ?it/s]/home/jiangnan/.local/lib/python3.8/site-packages/xgboost/sklearn.py:1146: UserWarning: The use of label encoder in XGBClassifier is deprecated and will be removed in a future release. To remove this warning, do the following: 1) Pass option use_label_encoder=False when constructing XGBClassifier object; and 2) Encode your labels (y) as integers starting with 0, i.e. 0, 1, 2, ..., [num_class - 1].\n",
      "  warnings.warn(label_encoder_deprecation_msg, UserWarning)\n",
      "100%|██████████| 100/100 [34:23<00:00, 20.63s/it]\n"
     ]
    }
   ],
   "source": [
    "xgb_attack_guesses, xgb_attack_proba, xgb_attack_real = compute_attack_model(complete_attack_test_data, real_membership_labels,100)"
   ]
  },
  {
   "cell_type": "code",
   "execution_count": 69,
   "metadata": {
    "colab": {
     "base_uri": "https://localhost:8080/"
    },
    "id": "ccN2sgyCyetH",
    "outputId": "9cb3f03e-ea6f-4001-ef80-d4df0c039f17"
   },
   "outputs": [
    {
     "name": "stdout",
     "output_type": "stream",
     "text": [
      "(200,)\n",
      "(200, 2)\n",
      "(200,)\n"
     ]
    }
   ],
   "source": [
    "print(xgb_attack_guesses.shape)\n",
    "print(xgb_attack_proba.shape)\n",
    "print(xgb_attack_real.shape)"
   ]
  },
  {
   "cell_type": "code",
   "execution_count": 70,
   "metadata": {},
   "outputs": [
    {
     "data": {
      "text/plain": [
       "'1.4.2'"
      ]
     },
     "execution_count": 70,
     "metadata": {},
     "output_type": "execute_result"
    }
   ],
   "source": [
    "xgb.__version__"
   ]
  },
  {
   "cell_type": "code",
   "execution_count": 71,
   "metadata": {
    "colab": {
     "base_uri": "https://localhost:8080/"
    },
    "id": "I1jU0AZXxK9s",
    "outputId": "c238aa4d-784a-43b7-d894-a67e4ff3d7fc"
   },
   "outputs": [
    {
     "name": "stdout",
     "output_type": "stream",
     "text": [
      "Privacy of defender model:\n",
      "(performance of the oracle attack model)\n",
      "acc: 0.91\n",
      "auc: 0.9756\n"
     ]
    }
   ],
   "source": [
    "accuracy = accuracy_score(xgb_attack_real,xgb_attack_guesses)\n",
    "fpr, tpr, thresholds = metrics.roc_curve(xgb_attack_real, xgb_attack_proba[:,1], pos_label=1)\n",
    "auc = metrics.auc(fpr, tpr)\n",
    "\n",
    "print('Privacy of defender model:')\n",
    "print('(performance of the oracle attack model)')\n",
    "print('acc: {}'.format(accuracy))\n",
    "print('auc: {}'.format(auc))"
   ]
  },
  {
   "cell_type": "code",
   "execution_count": null,
   "metadata": {
    "id": "pt5bZ5pEHs_A"
   },
   "outputs": [],
   "source": []
  }
 ],
 "metadata": {
  "colab": {
   "collapsed_sections": [],
   "name": "Easy_NewMIA",
   "provenance": []
  },
  "kernelspec": {
   "display_name": "Python 3",
   "language": "python",
   "name": "python3"
  },
  "language_info": {
   "codemirror_mode": {
    "name": "ipython",
    "version": 3
   },
   "file_extension": ".py",
   "mimetype": "text/x-python",
   "name": "python",
   "nbconvert_exporter": "python",
   "pygments_lexer": "ipython3",
   "version": "3.8.10"
  }
 },
 "nbformat": 4,
 "nbformat_minor": 1
}
