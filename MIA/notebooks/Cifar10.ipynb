{
 "cells": [
  {
   "cell_type": "markdown",
   "metadata": {},
   "source": [
    "# Membership Attack to Model of Cifar10 Dataset"
   ]
  },
  {
   "cell_type": "code",
   "execution_count": 1,
   "metadata": {
    "ExecuteTime": {
     "end_time": "2021-05-26T09:21:20.496590Z",
     "start_time": "2021-05-26T09:20:51.588624Z"
    }
   },
   "outputs": [],
   "source": [
    "import tensorflow as tf\n",
    "import numpy as np\n",
    "import os\n",
    "import dataset_loader\n",
    "from sklearn.model_selection import train_test_split"
   ]
  },
  {
   "cell_type": "code",
   "execution_count": 2,
   "metadata": {
    "ExecuteTime": {
     "end_time": "2021-05-26T09:28:13.692030Z",
     "start_time": "2021-05-26T09:28:09.590320Z"
    }
   },
   "outputs": [],
   "source": [
    "from tensorflow.keras.datasets import cifar10\n",
    "(x_train, y_train), (x_test, y_test) = cifar10.load_data()\n",
    "\n",
    "x_reserve = x_train[20000:]\n",
    "y_reserve = y_train[20000:]\n",
    "x_train = x_train[:20000]\n",
    "y_train = y_train[:20000]"
   ]
  },
  {
   "cell_type": "code",
   "execution_count": 3,
   "metadata": {
    "ExecuteTime": {
     "end_time": "2021-05-26T09:28:15.138403Z",
     "start_time": "2021-05-26T09:28:15.128217Z"
    }
   },
   "outputs": [
    {
     "name": "stdout",
     "output_type": "stream",
     "text": [
      "Train samples: 20000\n",
      "Test samples: 10000\n",
      "Reserve Sample: 30000\n"
     ]
    }
   ],
   "source": [
    "print('Train samples:', len(x_train))\n",
    "print('Test samples:', len(x_test))\n",
    "print('Reserve Sample:', len(x_reserve))"
   ]
  },
  {
   "cell_type": "markdown",
   "metadata": {},
   "source": [
    "Now we are going to split the data into 2 disjoints sets:\n",
    "+ One to train the target model\n",
    "+ The other to use as data from the same distribution to train our shadow models"
   ]
  },
  {
   "cell_type": "code",
   "execution_count": 4,
   "metadata": {
    "ExecuteTime": {
     "end_time": "2021-05-26T09:28:17.886503Z",
     "start_time": "2021-05-26T09:28:17.735599Z"
    }
   },
   "outputs": [
    {
     "name": "stdout",
     "output_type": "stream",
     "text": [
      "Target Train samples: 10000\n",
      "Target Test samples: 5000\n",
      "Attack Train samples: 10000\n",
      "Attack Test samples: 5000\n"
     ]
    }
   ],
   "source": [
    "x_target_train, x_attack_train, y_target_train, y_attack_train = train_test_split(x_train, y_train, test_size=0.5)\n",
    "x_target_test, x_attack_test, y_target_test, y_attack_test = train_test_split(x_test, y_test, test_size=0.5)\n",
    "\n",
    "print('Target Train samples:', len(x_target_train))\n",
    "print('Target Test samples:', len(x_target_test))\n",
    "print('Attack Train samples:', len(x_attack_train))\n",
    "print('Attack Test samples:', len(x_attack_test))"
   ]
  },
  {
   "cell_type": "code",
   "execution_count": 5,
   "metadata": {
    "ExecuteTime": {
     "end_time": "2021-05-26T09:28:19.105747Z",
     "start_time": "2021-05-26T09:28:19.089047Z"
    }
   },
   "outputs": [
    {
     "data": {
      "text/plain": [
       "(10000, 32, 32, 3)"
      ]
     },
     "execution_count": 5,
     "metadata": {},
     "output_type": "execute_result"
    }
   ],
   "source": [
    "x_target_train.shape"
   ]
  },
  {
   "cell_type": "code",
   "execution_count": 204,
   "metadata": {
    "ExecuteTime": {
     "end_time": "2021-05-26T13:46:23.756106Z",
     "start_time": "2021-05-26T13:46:23.750037Z"
    }
   },
   "outputs": [],
   "source": [
    "batch_size = 32\n",
    "num_classes = 10\n",
    "epochs = 20\n",
    "\n",
    "#y_target_train = tf.keras.utils.to_categorical(y_target_train, num_classes)\n",
    "#y_target_test = tf.keras.utils.to_categorical(y_target_test, num_classes)"
   ]
  },
  {
   "cell_type": "markdown",
   "metadata": {},
   "source": [
    "### Train the target model"
   ]
  },
  {
   "cell_type": "code",
   "execution_count": 205,
   "metadata": {
    "ExecuteTime": {
     "end_time": "2021-05-26T13:46:26.340811Z",
     "start_time": "2021-05-26T13:46:26.230466Z"
    }
   },
   "outputs": [],
   "source": [
    "target_model = tf.keras.models.Sequential([\n",
    "    tf.keras.layers.Conv2D(32, (3, 3), padding='same', input_shape=x_train.shape[1:], activation = tf.nn.relu),\n",
    "    tf.keras.layers.Conv2D(32, (3, 3), activation=tf.nn.relu),\n",
    "    tf.keras.layers.MaxPooling2D(pool_size=(2, 2)),\n",
    "    tf.keras.layers.Dropout(0.25),\n",
    "    tf.keras.layers.Conv2D(64, (3, 3), padding='same', activation=tf.nn.relu),\n",
    "    tf.keras.layers.Conv2D(64, (3, 3), activation=tf.nn.relu),\n",
    "    tf.keras.layers.MaxPooling2D(pool_size=(2, 2)),\n",
    "    tf.keras.layers.Dropout(0.25),\n",
    "    tf.keras.layers.Flatten(),\n",
    "    tf.keras.layers.Dense(512, activation=tf.nn.relu),\n",
    "    tf.keras.layers.Dense(10, activation=tf.nn.softmax)\n",
    "])\n",
    "\n",
    "train_op = tf.optimizers.Adam(1e-4)\n",
    "target_model.compile(optimizer=train_op,\n",
    "              loss='sparse_categorical_crossentropy',\n",
    "              metrics=['accuracy'])\n"
   ]
  },
  {
   "cell_type": "code",
   "execution_count": 235,
   "metadata": {
    "ExecuteTime": {
     "end_time": "2021-05-26T19:51:53.383936Z",
     "start_time": "2021-05-26T19:46:46.267127Z"
    },
    "code_folding": []
   },
   "outputs": [
    {
     "name": "stdout",
     "output_type": "stream",
     "text": [
      "Epoch 1/10\n",
      "313/313 [==============================] - 32s 103ms/step - loss: 0.2267 - accuracy: 0.9216 - val_loss: 1.4988 - val_accuracy: 0.6300\n",
      "Epoch 2/10\n",
      "313/313 [==============================] - 30s 96ms/step - loss: 0.1952 - accuracy: 0.9315 - val_loss: 1.4296 - val_accuracy: 0.6372\n",
      "Epoch 3/10\n",
      "313/313 [==============================] - 30s 95ms/step - loss: 0.1902 - accuracy: 0.9368 - val_loss: 1.4619 - val_accuracy: 0.6380\n",
      "Epoch 4/10\n",
      "313/313 [==============================] - 31s 98ms/step - loss: 0.1673 - accuracy: 0.9422 - val_loss: 1.5019 - val_accuracy: 0.6402\n",
      "Epoch 5/10\n",
      "313/313 [==============================] - 30s 97ms/step - loss: 0.1632 - accuracy: 0.9439 - val_loss: 1.5380 - val_accuracy: 0.6320\n",
      "Epoch 6/10\n",
      "313/313 [==============================] - 31s 98ms/step - loss: 0.1535 - accuracy: 0.9478 - val_loss: 1.5053 - val_accuracy: 0.6334\n",
      "Epoch 7/10\n",
      "313/313 [==============================] - 31s 98ms/step - loss: 0.1427 - accuracy: 0.9506 - val_loss: 1.5900 - val_accuracy: 0.6274\n",
      "Epoch 8/10\n",
      "313/313 [==============================] - 31s 98ms/step - loss: 0.1384 - accuracy: 0.9529 - val_loss: 1.6291 - val_accuracy: 0.6292\n",
      "Epoch 9/10\n",
      "313/313 [==============================] - 31s 99ms/step - loss: 0.1280 - accuracy: 0.9567 - val_loss: 1.6619 - val_accuracy: 0.6382\n",
      "Epoch 10/10\n",
      "313/313 [==============================] - 31s 99ms/step - loss: 0.1147 - accuracy: 0.9625 - val_loss: 1.7410 - val_accuracy: 0.6192\n"
     ]
    },
    {
     "data": {
      "text/plain": [
       "<tensorflow.python.keras.callbacks.History at 0x7f272c421710>"
      ]
     },
     "execution_count": 235,
     "metadata": {},
     "output_type": "execute_result"
    }
   ],
   "source": [
    "target_model.fit(x_target_train, y_target_train,\n",
    "              batch_size=batch_size,\n",
    "              epochs=10,\n",
    "              validation_data=(x_target_test, y_target_test),\n",
    "              shuffle=True)"
   ]
  },
  {
   "cell_type": "code",
   "execution_count": 348,
   "metadata": {
    "ExecuteTime": {
     "end_time": "2021-05-17T22:59:12.063941Z",
     "start_time": "2021-05-17T22:59:09.074189Z"
    },
    "scrolled": true
   },
   "outputs": [],
   "source": [
    "res_target = target_model.predict_proba(x_target_train)"
   ]
  },
  {
   "cell_type": "markdown",
   "metadata": {},
   "source": [
    "### Train the Shadow model"
   ]
  },
  {
   "cell_type": "code",
   "execution_count": 9,
   "metadata": {
    "ExecuteTime": {
     "end_time": "2021-05-26T09:54:25.655623Z",
     "start_time": "2021-05-26T09:54:25.426283Z"
    }
   },
   "outputs": [],
   "source": [
    "import sys\n",
    "sys.path.append('../')\n",
    "from mblearn import ShadowModels"
   ]
  },
  {
   "cell_type": "code",
   "execution_count": 207,
   "metadata": {
    "ExecuteTime": {
     "end_time": "2021-05-26T13:57:06.028611Z",
     "start_time": "2021-05-26T13:57:05.930039Z"
    }
   },
   "outputs": [],
   "source": [
    "shadow_model = tf.keras.models.Sequential([\n",
    "    tf.keras.layers.Conv2D(32, (3, 3), padding='same', input_shape=x_train.shape[1:], activation = tf.nn.relu),\n",
    "    tf.keras.layers.Conv2D(32, (3, 3), activation=tf.nn.relu),\n",
    "    tf.keras.layers.MaxPooling2D(pool_size=(2, 2)),\n",
    "    tf.keras.layers.Dropout(0.25),\n",
    "    tf.keras.layers.Conv2D(64, (3, 3), padding='same', activation=tf.nn.relu),\n",
    "    tf.keras.layers.Conv2D(64, (3, 3), activation=tf.nn.relu),\n",
    "    tf.keras.layers.MaxPooling2D(pool_size=(2, 2)),\n",
    "    tf.keras.layers.Dropout(0.25),\n",
    "    tf.keras.layers.Flatten(),\n",
    "    tf.keras.layers.Dense(512, activation=tf.nn.relu),\n",
    "    tf.keras.layers.Dense(10, activation=tf.nn.softmax)\n",
    "])\n",
    "\n",
    "train_op = tf.optimizers.Adam(1e-4)\n",
    "shadow_model.compile(optimizer=train_op,\n",
    "              loss='sparse_categorical_crossentropy',\n",
    "              metrics=['accuracy'])"
   ]
  },
  {
   "cell_type": "code",
   "execution_count": 236,
   "metadata": {
    "ExecuteTime": {
     "end_time": "2021-05-26T19:54:13.429581Z",
     "start_time": "2021-05-26T19:51:53.388351Z"
    }
   },
   "outputs": [
    {
     "data": {
      "application/vnd.jupyter.widget-view+json": {
       "model_id": "8177dd2f700f48d5a307dcc0bdd4113c",
       "version_major": 2,
       "version_minor": 0
      },
      "text/plain": [
       "HBox(children=(HTML(value=''), FloatProgress(value=1.0, bar_style='info', layout=Layout(width='20px'), max=1.0…"
      ]
     },
     "metadata": {},
     "output_type": "display_data"
    },
    {
     "name": "stdout",
     "output_type": "stream",
     "text": [
      "\n"
     ]
    }
   ],
   "source": [
    "shm = ShadowModels(x_attack_train,\n",
    "                   y_attack_train.reshape(1,-1)[0],\n",
    "                   n_models=10,\n",
    "                   target_classes=num_classes,\n",
    "                   learner=shadow_model,\n",
    "                   epochs=10,\n",
    "                   batch_size=batch_size,\n",
    "                   verbose=0)"
   ]
  },
  {
   "cell_type": "code",
   "execution_count": 12,
   "metadata": {
    "ExecuteTime": {
     "end_time": "2021-05-26T09:56:22.175776Z",
     "start_time": "2021-05-26T09:56:21.318059Z"
    }
   },
   "outputs": [
    {
     "data": {
      "text/plain": [
       "<matplotlib.image.AxesImage at 0x7f275432ef28>"
      ]
     },
     "execution_count": 12,
     "metadata": {},
     "output_type": "execute_result"
    },
    {
     "data": {
      "image/png": "[encoded data removed]",
      "text/plain": [
       "<Figure size 432x288 with 1 Axes>"
      ]
     },
     "metadata": {
      "needs_background": "light"
     },
     "output_type": "display_data"
    }
   ],
   "source": [
    "import matplotlib.pyplot as plt\n",
    "plt.imshow(x_attack_train[0].reshape(32,32,3))"
   ]
  },
  {
   "cell_type": "markdown",
   "metadata": {},
   "source": [
    "### Train Attack models"
   ]
  },
  {
   "cell_type": "code",
   "execution_count": 238,
   "metadata": {
    "ExecuteTime": {
     "end_time": "2021-05-26T19:54:16.661557Z",
     "start_time": "2021-05-26T19:54:16.658231Z"
    }
   },
   "outputs": [],
   "source": [
    "from mblearn import AttackModels\n",
    "from sklearn.ensemble import RandomForestClassifier"
   ]
  },
  {
   "cell_type": "code",
   "execution_count": 239,
   "metadata": {
    "ExecuteTime": {
     "end_time": "2021-05-26T19:54:16.746428Z",
     "start_time": "2021-05-26T19:54:16.663917Z"
    }
   },
   "outputs": [],
   "source": [
    "rf_attack = RandomForestClassifier(n_estimators=10)"
   ]
  },
  {
   "cell_type": "code",
   "execution_count": 240,
   "metadata": {
    "ExecuteTime": {
     "end_time": "2021-05-26T19:54:16.815626Z",
     "start_time": "2021-05-26T19:54:16.750810Z"
    }
   },
   "outputs": [],
   "source": [
    "attacker = AttackModels(target_classes=num_classes, attack_learner=rf_attack)"
   ]
  },
  {
   "cell_type": "code",
   "execution_count": 241,
   "metadata": {
    "ExecuteTime": {
     "end_time": "2021-05-26T19:54:17.240647Z",
     "start_time": "2021-05-26T19:54:16.824669Z"
    }
   },
   "outputs": [],
   "source": [
    "attacker.fit(shm.results)"
   ]
  },
  {
   "cell_type": "markdown",
   "metadata": {},
   "source": [
    "### Attack for a signal class label"
   ]
  },
  {
   "cell_type": "code",
   "execution_count": 257,
   "metadata": {
    "ExecuteTime": {
     "end_time": "2021-05-17T21:51:10.123744Z",
     "start_time": "2021-05-17T21:51:09.784088Z"
    }
   },
   "outputs": [
    {
     "data": {
      "text/plain": [
       "0.9914438502673797"
      ]
     },
     "execution_count": 257,
     "metadata": {},
     "output_type": "execute_result"
    }
   ],
   "source": [
    "rf = RandomForestClassifier(n_estimators=100)\n",
    "\n",
    "K = 9\n",
    "class_label = shm.results[:,-2]\n",
    "\n",
    "rf.fit(shm.results[:,:-2][class_label == K], shm.results[:,-1][class_label == K])\n",
    "\n",
    "pr = rf.predict(shm.results[:,:-2][class_label == K])\n",
    "accuracy_score(pr,shm.results[:,-1][class_label == K])"
   ]
  },
  {
   "cell_type": "code",
   "execution_count": 258,
   "metadata": {
    "ExecuteTime": {
     "end_time": "2021-05-17T21:51:10.839934Z",
     "start_time": "2021-05-17T21:51:10.757516Z"
    }
   },
   "outputs": [
    {
     "data": {
      "text/plain": [
       "0.5657051282051282"
      ]
     },
     "execution_count": 258,
     "metadata": {},
     "output_type": "execute_result"
    }
   ],
   "source": [
    "prr = rf.predict(X_final_test[y_final_test[0] == K])\n",
    "\n",
    "accuracy_score(Labels_test[y_final_test[0] == K],prr)\n"
   ]
  },
  {
   "cell_type": "code",
   "execution_count": 259,
   "metadata": {
    "ExecuteTime": {
     "end_time": "2021-05-17T21:51:11.469497Z",
     "start_time": "2021-05-17T21:51:11.429487Z"
    }
   },
   "outputs": [
    {
     "data": {
      "text/plain": [
       "0.5633802816901409"
      ]
     },
     "execution_count": 259,
     "metadata": {},
     "output_type": "execute_result"
    }
   ],
   "source": [
    "precision_score(Labels_test[y_final_test[0] == K],prr)"
   ]
  },
  {
   "cell_type": "code",
   "execution_count": 260,
   "metadata": {
    "ExecuteTime": {
     "end_time": "2021-05-17T21:51:11.943326Z",
     "start_time": "2021-05-17T21:51:11.931337Z"
    }
   },
   "outputs": [
    {
     "data": {
      "text/plain": [
       "0.14285714285714285"
      ]
     },
     "execution_count": 260,
     "metadata": {},
     "output_type": "execute_result"
    }
   ],
   "source": [
    "recall_score(Labels_test[y_final_test[0] == K],prr)"
   ]
  },
  {
   "cell_type": "markdown",
   "metadata": {},
   "source": [
    "### Create attack test dataset"
   ]
  },
  {
   "cell_type": "code",
   "execution_count": 17,
   "metadata": {
    "ExecuteTime": {
     "end_time": "2021-05-17T16:22:29.698204Z",
     "start_time": "2021-05-17T16:22:29.683707Z"
    }
   },
   "outputs": [],
   "source": [
    "# construct a set mix up training set and attack set\n",
    "# feed the set to the target model to get the predict vectors\n",
    "# feed these vectors to the attack model to get the final result."
   ]
  },
  {
   "cell_type": "code",
   "execution_count": 17,
   "metadata": {
    "ExecuteTime": {
     "end_time": "2021-05-26T09:56:36.967898Z",
     "start_time": "2021-05-26T09:56:33.460774Z"
    }
   },
   "outputs": [
    {
     "name": "stdout",
     "output_type": "stream",
     "text": [
      "In samples: 3000\n",
      "Out2 samples: 3000\n"
     ]
    }
   ],
   "source": [
    "_, x_in_test, _, y_in_test = train_test_split(x_target_train, y_target_train, test_size=0.3)\n",
    "#_, x_out0_test, _, y_out0_test = train_test_split(x_attack_train, y_attack_train, test_size=0.1)\n",
    "#_, x_out1_test, _, y_out1_test = train_test_split(x_test, y_test, test_size=0.1)\n",
    "_, x_out2_test, _, y_out2_test = train_test_split(x_reserve, y_reserve, test_size=0.1)\n",
    "\n",
    "print('In samples:', len(x_in_test))\n",
    "#print('Out0 samples:', len(x_out0_test))\n",
    "#print('Out1 samples:', len(x_out1_test))\n",
    "print('Out2 samples:', len(x_out2_test))\n",
    "\n",
    "x_final_test = np.vstack((x_in_test, x_out2_test))\n",
    "\n",
    "y_in_test = y_in_test.reshape(-1,1)\n",
    "#y_out0_test = y_out0_test.reshape(-1,1)\n",
    "#y_out1_test = y_out1_test.reshape(-1,1)\n",
    "y_out2_test = y_out2_test.reshape(-1,1)\n",
    "\n",
    "y_final_test = np.vstack((y_in_test, y_out2_test)).reshape(1,-1)\n",
    "\n",
    "Labels_test = np.vstack((np.ones_like(y_in_test), np.zeros_like(y_out2_test)))\n",
    "\n",
    "#Final_test = np.hstack((X_final_test,y_final_test))"
   ]
  },
  {
   "cell_type": "code",
   "execution_count": 242,
   "metadata": {
    "ExecuteTime": {
     "end_time": "2021-05-26T19:54:20.429161Z",
     "start_time": "2021-05-26T19:54:17.243052Z"
    }
   },
   "outputs": [],
   "source": [
    "X_final_test = target_model.predict_proba(x_final_test)"
   ]
  },
  {
   "cell_type": "markdown",
   "metadata": {},
   "source": [
    "### The shadow model's preformance?"
   ]
  },
  {
   "cell_type": "code",
   "execution_count": 139,
   "metadata": {
    "ExecuteTime": {
     "end_time": "2021-05-26T12:15:03.618135Z",
     "start_time": "2021-05-26T12:15:03.614896Z"
    }
   },
   "outputs": [],
   "source": [
    "from sklearn.metrics import log_loss\n",
    "from sklearn.metrics import accuracy_score\n",
    "from sklearn.metrics import precision_score\n",
    "from sklearn.metrics import recall_score"
   ]
  },
  {
   "cell_type": "code",
   "execution_count": 243,
   "metadata": {
    "ExecuteTime": {
     "end_time": "2021-05-26T19:54:32.137561Z",
     "start_time": "2021-05-26T19:54:20.432914Z"
    }
   },
   "outputs": [],
   "source": [
    "predict_prob = attacker.predict(shm.results[:,:-2],shm.results[:,-2].astype(int),batch=True)\n",
    "predict_prob = np.array(predict_prob)[:,0]"
   ]
  },
  {
   "cell_type": "code",
   "execution_count": 244,
   "metadata": {
    "ExecuteTime": {
     "end_time": "2021-05-26T19:54:32.192100Z",
     "start_time": "2021-05-26T19:54:32.139276Z"
    }
   },
   "outputs": [],
   "source": [
    "result = shm.results[:,:-2]\n",
    "\n",
    "label_results = []\n",
    "for i in range(result.shape[0]):\n",
    "    label_results.append(list(result[i]).index(max(result[i])))"
   ]
  },
  {
   "cell_type": "code",
   "execution_count": 245,
   "metadata": {
    "ExecuteTime": {
     "end_time": "2021-05-26T19:54:32.258684Z",
     "start_time": "2021-05-26T19:54:32.195236Z"
    }
   },
   "outputs": [
    {
     "data": {
      "text/plain": [
       "0.8361809045226131"
      ]
     },
     "execution_count": 245,
     "metadata": {},
     "output_type": "execute_result"
    }
   ],
   "source": [
    "label_results = np.array(label_results)\n",
    "\n",
    "accuracy_score(label_results,shm.results[:,-2])"
   ]
  },
  {
   "cell_type": "code",
   "execution_count": 246,
   "metadata": {
    "ExecuteTime": {
     "end_time": "2021-05-26T19:54:32.362726Z",
     "start_time": "2021-05-26T19:54:32.263284Z"
    }
   },
   "outputs": [
    {
     "name": "stdout",
     "output_type": "stream",
     "text": [
      "cross_entropy: 0.1494322870270706\n",
      "accuracy: 0.9845226130653266\n",
      "precision: 0.9884381338742394\n",
      "recall: 0.9804828973843058\n"
     ]
    }
   ],
   "source": [
    "predict = predict_prob[:,0] < predict_prob[:,1]\n",
    "predict = predict.astype(int)\n",
    "\n",
    "cross_entropy = log_loss(shm.results[:,-1], predict_prob)\n",
    "accuracy = accuracy_score(shm.results[:,-1], predict)\n",
    "precision = precision_score(shm.results[:,-1], predict)\n",
    "recall = recall_score(shm.results[:,-1], predict)\n",
    "\n",
    "print('cross_entropy:', cross_entropy)\n",
    "print('accuracy:', accuracy)\n",
    "print('precision:', precision)\n",
    "print('recall:',recall)"
   ]
  },
  {
   "cell_type": "markdown",
   "metadata": {},
   "source": [
    "### Final Test "
   ]
  },
  {
   "cell_type": "code",
   "execution_count": 247,
   "metadata": {
    "ExecuteTime": {
     "end_time": "2021-05-26T19:54:39.601061Z",
     "start_time": "2021-05-26T19:54:32.365545Z"
    }
   },
   "outputs": [],
   "source": [
    "predict_prob = attacker.predict(X_final_test,y_final_test[0],batch=True)\n",
    "predict_prob = np.array(predict_prob)[:,0]"
   ]
  },
  {
   "cell_type": "code",
   "execution_count": 248,
   "metadata": {
    "ExecuteTime": {
     "end_time": "2021-05-26T19:54:39.608237Z",
     "start_time": "2021-05-26T19:54:39.603873Z"
    }
   },
   "outputs": [],
   "source": [
    "predict = predict_prob[:,0] < predict_prob[:,1]\n",
    "predict = predict.astype(int)"
   ]
  },
  {
   "cell_type": "code",
   "execution_count": 249,
   "metadata": {
    "ExecuteTime": {
     "end_time": "2021-05-26T19:54:39.688477Z",
     "start_time": "2021-05-26T19:54:39.610319Z"
    }
   },
   "outputs": [
    {
     "name": "stdout",
     "output_type": "stream",
     "text": [
      "cross_entropy: 1.122397504671161\n",
      "accuracy: 0.7091666666666666\n",
      "precision: 0.7190226876090751\n",
      "recall: 0.6866666666666666\n"
     ]
    }
   ],
   "source": [
    "cross_entropy = log_loss(Labels_test,predict_prob)\n",
    "\n",
    "accuracy = accuracy_score(Labels_test,predict)\n",
    "precision = precision_score(Labels_test,predict)\n",
    "recall = recall_score(Labels_test,predict)\n",
    "\n",
    "print('cross_entropy:', cross_entropy)\n",
    "print('accuracy:', accuracy)\n",
    "print('precision:', precision)\n",
    "print('recall:',recall)"
   ]
  },
  {
   "cell_type": "code",
   "execution_count": null,
   "metadata": {},
   "outputs": [],
   "source": []
  }
 ],
 "metadata": {
  "kernelspec": {
   "display_name": "Python 3",
   "language": "python",
   "name": "python3"
  },
  "language_info": {
   "codemirror_mode": {
    "name": "ipython",
    "version": 3
   },
   "file_extension": ".py",
   "mimetype": "text/x-python",
   "name": "python",
   "nbconvert_exporter": "python",
   "pygments_lexer": "ipython3",
   "version": "3.6.9"
  }
 },
 "nbformat": 4,
 "nbformat_minor": 2
}
