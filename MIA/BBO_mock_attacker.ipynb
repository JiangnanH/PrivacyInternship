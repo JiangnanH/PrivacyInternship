{
  "nbformat": 4,
  "nbformat_minor": 0,
  "metadata": {
    "colab": {
      "name": "New_MIA.ipynb",
      "provenance": [],
      "collapsed_sections": [
        "8TfaWzhkATJq",
        "dbNvGhsvAwUX"
      ]
    },
    "kernelspec": {
      "display_name": "Python 3",
      "language": "python",
      "name": "python3"
    },
    "language_info": {
      "codemirror_mode": {
        "name": "ipython",
        "version": 3
      },
      "file_extension": ".py",
      "mimetype": "text/x-python",
      "name": "python",
      "nbconvert_exporter": "python",
      "pygments_lexer": "ipython3",
      "version": "3.8.10"
    },
    "accelerator": "GPU"
  },
  "cells": [
    {
      "cell_type": "markdown",
      "metadata": {
        "id": "lcC7RAgs0mdu"
      },
      "source": [
        "# Requirement:\n",
        "- numpy 1.19.5\n",
        "- tensorflow 2.5.0\n",
        "- tensorflow_privacy 0.6.1\n",
        "- sklearn 0.24.2\n",
        "- xgboost 1.4.2\n",
        "\n",
        "Before performing the experiments, you need to fit the **mia_path** (path for MIA package) and **pickle_file**(path for tabular QMNIST data) according to your own PC."
      ]
    },
    {
      "cell_type": "code",
      "metadata": {
        "id": "iYdgdZMocHNk"
      },
      "source": [
        "import sys\n",
        "import os\n",
        "import pickle\n",
        "import random\n",
        "import time\n",
        "\n",
        "import numpy as np\n",
        "np.random.seed(12)\n",
        "import tensorflow as tf\n",
        "tf.random.set_seed(3)\n",
        "from tensorflow.keras import layers\n",
        "from sklearn.model_selection import train_test_split\n",
        "import xgboost as xgb\n",
        "from tqdm import tqdm\n",
        "\n",
        "from mia.estimators import prepare_attack_data"
      ],
      "execution_count": 5,
      "outputs": []
    },
    {
      "cell_type": "markdown",
      "metadata": {
        "id": "xuMDw0xmAH-d"
      },
      "source": [
        "# Load QMNIST data and define functions"
      ]
    },
    {
      "cell_type": "code",
      "metadata": {
        "colab": {
          "base_uri": "https://localhost:8080/"
        },
        "id": "yOBOLaM6ghKD",
        "outputId": "80c7d3a0-bce1-4a69-af52-bf343de29d2d"
      },
      "source": [
        "pickle_file = '/content/QMNIST_tabular.pickle'\n",
        "\n",
        "with open(pickle_file, 'rb') as f:\n",
        "    pickle_data = pickle.load(f)\n",
        "    x_defender = pickle_data['x_private']\n",
        "    x_reserve = pickle_data['x_reserved']\n",
        "    y_defender = pickle_data['y_private']\n",
        "    y_reserve = pickle_data['y_reserved']\n",
        "    del pickle_data\n",
        "print('Data loaded.')"
      ],
      "execution_count": 6,
      "outputs": [
        {
          "output_type": "stream",
          "text": [
            "Data loaded.\n"
          ],
          "name": "stdout"
        }
      ]
    },
    {
      "cell_type": "code",
      "metadata": {
        "id": "qW1n24bvs6nP"
      },
      "source": [
        "NUM_CLASSES = 10\n",
        "\n",
        "y_defender = y_defender[:,0]\n",
        "y_reserve = y_reserve[:,0]\n",
        "\n",
        "y_defender = np.expand_dims(y_defender,axis=1)\n",
        "y_reserve = np.expand_dims(y_reserve,axis=1)\n",
        "\n",
        "y_defender = tf.keras.utils.to_categorical(y_defender, num_classes=NUM_CLASSES)\n",
        "y_reserve = tf.keras.utils.to_categorical(y_reserve, num_classes=NUM_CLASSES)"
      ],
      "execution_count": 7,
      "outputs": []
    },
    {
      "cell_type": "code",
      "metadata": {
        "id": "modA6plvgVnX"
      },
      "source": [
        "#l2_norm_clip = 1.0\n",
        "#noise_multiplier = 1.1\n",
        "\n",
        "def defender_model_fn(n_hidden_units=128, lr=1e-4):\n",
        "    \"\"\"The architecture of the defender (victim) model.\n",
        "    The attack is white-box, hence the attacker is assumed to know this architecture too.\"\"\"\n",
        "\n",
        "    model = tf.keras.models.Sequential([\n",
        "    tf.keras.layers.Flatten(),\n",
        "    tf.keras.layers.Dense(n_hidden_units, activation=tf.nn.relu),\n",
        "    tf.keras.layers.Dense(10, activation=tf.nn.softmax)\n",
        "    ])\n",
        "    \n",
        "    ##if train_with_DP:\n",
        "    ##from tensorflow_privacy.privacy.optimizers.dp_optimizer_keras import DPKerasSGDOptimizer\n",
        "    ##train_op = DPKerasSGDOptimizer(\n",
        "    ##    l2_norm_clip=l2_norm_clip,\n",
        "    ##    noise_multiplier=noise_multiplier,\n",
        "    ##    num_microbatches=1, # Possible problem after reducing the size of cost vector in tensorflow-privacy. Check: https://github.com/tensorflow/privacy/issues/17\n",
        "    ##    learning_rate=1e-4\n",
        "    ##    )\n",
        "    ##else:\n",
        "    \n",
        "    train_op = tf.optimizers.Adam(learning_rate=lr)\n",
        "    \n",
        "    model.compile(optimizer=train_op,\n",
        "                  loss='categorical_crossentropy',\n",
        "                  metrics=['accuracy'])\n",
        "    return model\n",
        "\n",
        "def get_ed_ce(attack_test_data):\n",
        "    ed = np.array([])\n",
        "    ce = np.array([])\n",
        "\n",
        "    for i in range(attack_test_data.shape[0]):\n",
        "        ed = np.hstack((ed,euclidean_distances(attack_test_data[i,NUM_CLASSES:].reshape((1,NUM_CLASSES)), attack_test_data[i,:NUM_CLASSES].reshape((1,NUM_CLASSES))).squeeze()))\n",
        "        ce = np.hstack((ce,log_loss(attack_test_data[i,NUM_CLASSES:].reshape((1,NUM_CLASSES)), attack_test_data[i,:NUM_CLASSES].reshape((1,NUM_CLASSES)))))\n",
        "\n",
        "    ed = ed.reshape((len(ed),1))\n",
        "    ce = ce.reshape((len(ce),1))\n",
        "    return ed,ce\n",
        "\n",
        "def get_auc_by_class(y_true, y_pred_proba):\n",
        "    auc_by_class = []\n",
        "\n",
        "    # compute auc per class then take the average value\n",
        "    for i in range(NUM_CLASSES):\n",
        "        class_indices = np.argmax(y_true, axis=1) == i\n",
        "        fpr, tpr, thresholds = metrics.roc_curve(class_indices, y_pred_proba[:,i])\n",
        "        auc = metrics.auc(fpr, tpr)\n",
        "        auc_by_class.append(auc)\n",
        "\n",
        "    return np.mean(auc_by_class)"
      ],
      "execution_count": 8,
      "outputs": []
    },
    {
      "cell_type": "markdown",
      "metadata": {
        "id": "9YjVRjvr7HsJ"
      },
      "source": [
        "# Black-box optimization"
      ]
    },
    {
      "cell_type": "code",
      "metadata": {
        "id": "0l3388cjaG2Z"
      },
      "source": [
        "def compute_attack_model(x_train, y_train, x_eval, y_eval, trials=1000):\n",
        "  # repeat the evaluating process for 'trials' times.\n",
        "  \n",
        "  xgb_attack_guesses = np.array([])\n",
        "  xgb_attack_proba = np.reshape(np.array([[],[]]),(0,2))\n",
        "  xgb_attack_real = np.array([])\n",
        "\n",
        "  for i in range(trials):\n",
        "    xgb_model = xgb.XGBClassifier(objective=\"binary:logistic\", random_state=50, eval_metric='logloss',  tree_method='gpu_hist')\n",
        "    xgb_model.fit(x_train, y_train)\n",
        "\n",
        "    xgb_proba = xgb_model.predict_proba(x_eval)\n",
        "    xgb_guesses = xgb_model.predict(x_eval)\n",
        "    \n",
        "\n",
        "    xgb_attack_guesses = np.hstack((xgb_attack_guesses,xgb_guesses))\n",
        "    xgb_attack_proba = np.vstack((xgb_attack_proba,xgb_proba))\n",
        "    xgb_attack_real = np.hstack((xgb_attack_real,y_eval))\n",
        "\n",
        "  return xgb_attack_guesses, xgb_attack_proba, xgb_attack_real\n",
        "\n",
        "\n",
        "def get_attack_data(defender_model, data_in, data_out):\n",
        "    attack_data, attack_data_dense2, real_membership_labels = prepare_attack_data(\n",
        "        defender_model, data_in, data_out\n",
        "    )\n",
        "    ed, ce = get_ed_ce(attack_data)\n",
        "    new_attack_data = np.hstack((attack_data,ce,ed))\n",
        "    complete_attack_data = np.hstack((attack_data_dense2[:,:-10], new_attack_data))\n",
        "    return complete_attack_data, real_membership_labels"
      ],
      "execution_count": 56,
      "outputs": []
    },
    {
      "cell_type": "code",
      "metadata": {
        "id": "pt5bZ5pEHs_A"
      },
      "source": [
        "import nevergrad as ng\n",
        "from sklearn.model_selection import train_test_split\n",
        "\n",
        "# Prepare examples that were in the training, and out of the training.\n",
        "data_in = x_defender[:number_records], y_defender[:number_records]\n",
        "\n",
        "utility = []\n",
        "privacy = []\n",
        "params = []\n",
        "\n",
        "x_Dt, x_Dn, y_Dt, y_Dn = train_test_split(data_in[0], data_in[1], test_size=0.5, shuffle=True, random_state=42)\n",
        "\n",
        "x_Dts, x_Dte, y_Dts, y_Dte = train_test_split(x_Dt, y_Dt, test_size=0.5, shuffle=True, random_state=43)\n",
        "x_Dns, x_Dne, y_Dns, y_Dne = train_test_split(x_Dn, y_Dn, test_size=0.5, shuffle=True, random_state=44)\n",
        "\n",
        "n_train_attacker = x_Dts.shape[0]\n",
        "\n",
        "def min_privacy_loss(n_hidden_units:int, n_epochs:int, lr:float) -> float:\n",
        "    # Train XGBoost model on the defender data\n",
        "    defender_model = defender_model_fn(n_hidden_units, lr)    \n",
        "    defender_model.fit(x_Dts, y_Dts, epochs=n_epochs, batch_size = 32, validation_data=(x_Dte, y_Dte),shuffle=False, verbose=False)\n",
        "    # Compute utility of the defender model\n",
        "    predict_reserve_proba = defender_model.predict_proba(x_Dte)\n",
        "    predict_reserve = np.argmax(predict_reserve_proba, axis=1)\n",
        "    label_reserve = np.argmax(y_Dte, axis=1)\n",
        "    acc = accuracy_score(label_reserve, predict_reserve)\n",
        "    #defender_auc = get_auc_by_class(y_reserve, predict_reserve_proba)\n",
        "\n",
        "    #Defender utility constraint\n",
        "    if acc < 0.9:\n",
        "        return float(\"inf\")\n",
        "    else:\n",
        "        # Prepare data for mock attacker.        \n",
        "        complete_attack_data, real_membership_labels = get_attack_data(defender_model, (np.vstack((x_Dts,x_Dte)), np.vstack((y_Dts,y_Dte))), (np.vstack((x_Dns,x_Dne)),np.vstack((y_Dns,y_Dne))))\n",
        "\n",
        "        train_indices = list(range(x_Dts.shape[0]))+list(range(x_Dts.shape[0]+x_Dte.shape[0],x_Dts.shape[0]+x_Dte.shape[0]+x_Dns.shape[0]))\n",
        "        test_indices = list(range(x_Dts.shape[0],x_Dts.shape[0]+x_Dte.shape[0]))+list(range(x_Dts.shape[0]+x_Dte.shape[0]+x_Dns.shape[0],x_Dts.shape[0]+x_Dte.shape[0]+x_Dns.shape[0]+x_Dne.shape[0]))\n",
        "\n",
        "        complete_attack_train_data = complete_attack_data[train_indices]\n",
        "        complete_attack_test_data = complete_attack_data[test_indices]\n",
        "        real_membership_train_labels = real_membership_labels[train_indices]\n",
        "        real_membership_test_labels = real_membership_labels[test_indices]\n",
        "        #complete_attack_test_data, real_membership_test_labels = get_attack_data(defender_model, (x_Dts, y_Dts), (x_Dne,y_Dne))\n",
        "\n",
        "        # Train mock attacker and compute privacy (loss of the attacker)\n",
        "        xgb_attack_guesses, xgb_attack_proba, xgb_attack_real = compute_attack_model(complete_attack_train_data, real_membership_train_labels, complete_attack_test_data, real_membership_test_labels, 50)\n",
        "        privacy_loss = -log_loss(xgb_attack_real,xgb_attack_proba)\n",
        "        fpr, tpr, thresholds = metrics.roc_curve(xgb_attack_real, xgb_attack_proba[:,1], pos_label=1)\n",
        "        attacker_auc = metrics.auc(fpr, tpr)\n",
        "        # Save params of the optimization step\n",
        "        utility.append(acc)\n",
        "        privacy.append(attacker_auc)\n",
        "        params.append([n_hidden_units, n_epochs, lr])\n",
        "        return privacy_loss"
      ],
      "execution_count": 73,
      "outputs": []
    },
    {
      "cell_type": "code",
      "metadata": {
        "id": "UBmnzQOp7L6E",
        "colab": {
          "base_uri": "https://localhost:8080/"
        },
        "outputId": "9aedec47-1864-420e-cb56-fae351e00224"
      },
      "source": [
        "# Instrumentation class is used for functions with multiple inputs\n",
        "# (positional and/or keywords)\n",
        "\n",
        "parametrization = ng.p.Instrumentation(\n",
        "    n_hidden_units=ng.p.Choice([32,64,128,256,512,1024]),\n",
        "    n_epochs=ng.p.Scalar(lower=1, upper=50).set_integer_casting(),\n",
        "    lr=ng.p.Scalar(lower=0.0001, upper=0.1)\n",
        ")\n",
        "\n",
        "optimizer = ng.optimizers.TwoPointsDE(parametrization=parametrization, budget=100)\n",
        "optimizer.parametrization.random_state = np.random.RandomState(12)\n",
        "#optimizer = ng.optimizers.RandomSearch(parametrization=parametrization, budget=100)\n",
        "start_time_bbo = time.time()\n",
        "recommendation = optimizer.minimize(min_privacy_loss, verbosity=True)\n",
        "total_time_bbo = time.time()- start_time_bbo\n"
      ],
      "execution_count": null,
      "outputs": [
        {
          "output_type": "stream",
          "text": [
            "Launching 1 jobs with new suggestions\n"
          ],
          "name": "stdout"
        },
        {
          "output_type": "stream",
          "text": [
            "/usr/local/lib/python3.7/dist-packages/tensorflow/python/keras/engine/sequential.py:430: UserWarning: `model.predict_proba()` is deprecated and will be removed after 2021-01-01. Please use `model.predict()` instead.\n",
            "  warnings.warn('`model.predict_proba()` is deprecated and '\n",
            "/usr/local/lib/python3.7/dist-packages/nevergrad/optimization/base.py:317: LossTooLargeWarning: Clipping very high value inf in tell (rescale the cost function?).\n",
            "  errors.LossTooLargeWarning,\n"
          ],
          "name": "stderr"
        },
        {
          "output_type": "stream",
          "text": [
            "Updating fitness with value inf\n",
            "99 remaining budget and 0 running jobs\n",
            "Launching 1 jobs with new suggestions\n",
            "Model: \"sequential_41\"\n",
            "_________________________________________________________________\n",
            "Layer (type)                 Output Shape              Param #   \n",
            "=================================================================\n",
            "flatten_41 (Flatten)         (None, 512)               0         \n",
            "_________________________________________________________________\n",
            "dense_82 (Dense)             (None, 256)               131328    \n",
            "_________________________________________________________________\n",
            "dense_83 (Dense)             (None, 10)                2570      \n",
            "=================================================================\n",
            "Total params: 133,898\n",
            "Trainable params: 133,898\n",
            "Non-trainable params: 0\n",
            "_________________________________________________________________\n",
            "None\n"
          ],
          "name": "stdout"
        },
        {
          "output_type": "stream",
          "text": [
            "/usr/local/lib/python3.7/dist-packages/xgboost/sklearn.py:1146: UserWarning: The use of label encoder in XGBClassifier is deprecated and will be removed in a future release. To remove this warning, do the following: 1) Pass option use_label_encoder=False when constructing XGBClassifier object; and 2) Encode your labels (y) as integers starting with 0, i.e. 0, 1, 2, ..., [num_class - 1].\n",
            "  warnings.warn(label_encoder_deprecation_msg, UserWarning)\n"
          ],
          "name": "stderr"
        },
        {
          "output_type": "stream",
          "text": [
            "Updating fitness with value -1.0300575694310206\n",
            "98 remaining budget and 0 running jobs\n",
            "Launching 1 jobs with new suggestions\n"
          ],
          "name": "stdout"
        },
        {
          "output_type": "stream",
          "text": [
            "/usr/local/lib/python3.7/dist-packages/tensorflow/python/keras/engine/sequential.py:430: UserWarning: `model.predict_proba()` is deprecated and will be removed after 2021-01-01. Please use `model.predict()` instead.\n",
            "  warnings.warn('`model.predict_proba()` is deprecated and '\n",
            "/usr/local/lib/python3.7/dist-packages/nevergrad/optimization/base.py:317: LossTooLargeWarning: Clipping very high value inf in tell (rescale the cost function?).\n",
            "  errors.LossTooLargeWarning,\n"
          ],
          "name": "stderr"
        },
        {
          "output_type": "stream",
          "text": [
            "Updating fitness with value inf\n",
            "97 remaining budget and 0 running jobs\n",
            "Launching 1 jobs with new suggestions\n",
            "Updating fitness with value inf\n",
            "96 remaining budget and 0 running jobs\n",
            "Launching 1 jobs with new suggestions\n",
            "Updating fitness with value inf\n",
            "95 remaining budget and 0 running jobs\n",
            "Launching 1 jobs with new suggestions\n",
            "Model: \"sequential_45\"\n",
            "_________________________________________________________________\n",
            "Layer (type)                 Output Shape              Param #   \n",
            "=================================================================\n",
            "flatten_45 (Flatten)         (None, 512)               0         \n",
            "_________________________________________________________________\n",
            "dense_90 (Dense)             (None, 64)                32832     \n",
            "_________________________________________________________________\n",
            "dense_91 (Dense)             (None, 10)                650       \n",
            "=================================================================\n",
            "Total params: 33,482\n",
            "Trainable params: 33,482\n",
            "Non-trainable params: 0\n",
            "_________________________________________________________________\n",
            "None\n"
          ],
          "name": "stdout"
        },
        {
          "output_type": "stream",
          "text": [
            "/usr/local/lib/python3.7/dist-packages/xgboost/sklearn.py:1146: UserWarning: The use of label encoder in XGBClassifier is deprecated and will be removed in a future release. To remove this warning, do the following: 1) Pass option use_label_encoder=False when constructing XGBClassifier object; and 2) Encode your labels (y) as integers starting with 0, i.e. 0, 1, 2, ..., [num_class - 1].\n",
            "  warnings.warn(label_encoder_deprecation_msg, UserWarning)\n"
          ],
          "name": "stderr"
        },
        {
          "output_type": "stream",
          "text": [
            "Updating fitness with value -0.8552456801736914\n",
            "94 remaining budget and 0 running jobs\n",
            "Launching 1 jobs with new suggestions\n"
          ],
          "name": "stdout"
        },
        {
          "output_type": "stream",
          "text": [
            "/usr/local/lib/python3.7/dist-packages/tensorflow/python/keras/engine/sequential.py:430: UserWarning: `model.predict_proba()` is deprecated and will be removed after 2021-01-01. Please use `model.predict()` instead.\n",
            "  warnings.warn('`model.predict_proba()` is deprecated and '\n",
            "/usr/local/lib/python3.7/dist-packages/nevergrad/optimization/base.py:317: LossTooLargeWarning: Clipping very high value inf in tell (rescale the cost function?).\n",
            "  errors.LossTooLargeWarning,\n"
          ],
          "name": "stderr"
        },
        {
          "output_type": "stream",
          "text": [
            "Updating fitness with value inf\n",
            "93 remaining budget and 0 running jobs\n",
            "Launching 1 jobs with new suggestions\n",
            "Updating fitness with value inf\n",
            "92 remaining budget and 0 running jobs\n",
            "Launching 1 jobs with new suggestions\n",
            "Updating fitness with value inf\n",
            "91 remaining budget and 0 running jobs\n",
            "Launching 1 jobs with new suggestions\n",
            "Updating fitness with value inf\n",
            "90 remaining budget and 0 running jobs\n",
            "Launching 1 jobs with new suggestions\n",
            "Updating fitness with value inf\n",
            "89 remaining budget and 0 running jobs\n",
            "Launching 1 jobs with new suggestions\n",
            "Updating fitness with value inf\n",
            "88 remaining budget and 0 running jobs\n",
            "Launching 1 jobs with new suggestions\n",
            "Updating fitness with value inf\n",
            "87 remaining budget and 0 running jobs\n",
            "Launching 1 jobs with new suggestions\n",
            "Updating fitness with value inf\n",
            "86 remaining budget and 0 running jobs\n",
            "Launching 1 jobs with new suggestions\n",
            "Updating fitness with value inf\n",
            "85 remaining budget and 0 running jobs\n",
            "Launching 1 jobs with new suggestions\n",
            "Updating fitness with value inf\n",
            "84 remaining budget and 0 running jobs\n",
            "Launching 1 jobs with new suggestions\n",
            "Updating fitness with value inf\n",
            "83 remaining budget and 0 running jobs\n",
            "Launching 1 jobs with new suggestions\n",
            "Updating fitness with value inf\n",
            "82 remaining budget and 0 running jobs\n",
            "Launching 1 jobs with new suggestions\n",
            "Updating fitness with value inf\n",
            "81 remaining budget and 0 running jobs\n",
            "Launching 1 jobs with new suggestions\n",
            "Updating fitness with value inf\n",
            "80 remaining budget and 0 running jobs\n",
            "Launching 1 jobs with new suggestions\n",
            "Updating fitness with value inf\n",
            "79 remaining budget and 0 running jobs\n",
            "Launching 1 jobs with new suggestions\n",
            "Updating fitness with value inf\n",
            "78 remaining budget and 0 running jobs\n",
            "Launching 1 jobs with new suggestions\n",
            "Model: \"sequential_62\"\n",
            "_________________________________________________________________\n",
            "Layer (type)                 Output Shape              Param #   \n",
            "=================================================================\n",
            "flatten_62 (Flatten)         (None, 512)               0         \n",
            "_________________________________________________________________\n",
            "dense_124 (Dense)            (None, 256)               131328    \n",
            "_________________________________________________________________\n",
            "dense_125 (Dense)            (None, 10)                2570      \n",
            "=================================================================\n",
            "Total params: 133,898\n",
            "Trainable params: 133,898\n",
            "Non-trainable params: 0\n",
            "_________________________________________________________________\n",
            "None\n"
          ],
          "name": "stdout"
        },
        {
          "output_type": "stream",
          "text": [
            "/usr/local/lib/python3.7/dist-packages/xgboost/sklearn.py:1146: UserWarning: The use of label encoder in XGBClassifier is deprecated and will be removed in a future release. To remove this warning, do the following: 1) Pass option use_label_encoder=False when constructing XGBClassifier object; and 2) Encode your labels (y) as integers starting with 0, i.e. 0, 1, 2, ..., [num_class - 1].\n",
            "  warnings.warn(label_encoder_deprecation_msg, UserWarning)\n"
          ],
          "name": "stderr"
        },
        {
          "output_type": "stream",
          "text": [
            "Updating fitness with value -0.8563304767590298\n",
            "77 remaining budget and 0 running jobs\n",
            "Launching 1 jobs with new suggestions\n"
          ],
          "name": "stdout"
        },
        {
          "output_type": "stream",
          "text": [
            "/usr/local/lib/python3.7/dist-packages/tensorflow/python/keras/engine/sequential.py:430: UserWarning: `model.predict_proba()` is deprecated and will be removed after 2021-01-01. Please use `model.predict()` instead.\n",
            "  warnings.warn('`model.predict_proba()` is deprecated and '\n",
            "/usr/local/lib/python3.7/dist-packages/nevergrad/optimization/base.py:317: LossTooLargeWarning: Clipping very high value inf in tell (rescale the cost function?).\n",
            "  errors.LossTooLargeWarning,\n"
          ],
          "name": "stderr"
        },
        {
          "output_type": "stream",
          "text": [
            "Updating fitness with value inf\n",
            "76 remaining budget and 0 running jobs\n",
            "Launching 1 jobs with new suggestions\n",
            "Updating fitness with value inf\n",
            "75 remaining budget and 0 running jobs\n",
            "Launching 1 jobs with new suggestions\n",
            "Updating fitness with value inf\n",
            "74 remaining budget and 0 running jobs\n",
            "Launching 1 jobs with new suggestions\n",
            "Updating fitness with value inf\n",
            "73 remaining budget and 0 running jobs\n",
            "Launching 1 jobs with new suggestions\n",
            "Updating fitness with value inf\n",
            "72 remaining budget and 0 running jobs\n",
            "Launching 1 jobs with new suggestions\n",
            "Updating fitness with value inf\n",
            "71 remaining budget and 0 running jobs\n",
            "Launching 1 jobs with new suggestions\n",
            "Updating fitness with value inf\n",
            "70 remaining budget and 0 running jobs\n",
            "Launching 1 jobs with new suggestions\n",
            "Model: \"sequential_70\"\n",
            "_________________________________________________________________\n",
            "Layer (type)                 Output Shape              Param #   \n",
            "=================================================================\n",
            "flatten_70 (Flatten)         (None, 512)               0         \n",
            "_________________________________________________________________\n",
            "dense_140 (Dense)            (None, 256)               131328    \n",
            "_________________________________________________________________\n",
            "dense_141 (Dense)            (None, 10)                2570      \n",
            "=================================================================\n",
            "Total params: 133,898\n",
            "Trainable params: 133,898\n",
            "Non-trainable params: 0\n",
            "_________________________________________________________________\n",
            "None\n"
          ],
          "name": "stdout"
        },
        {
          "output_type": "stream",
          "text": [
            "/usr/local/lib/python3.7/dist-packages/xgboost/sklearn.py:1146: UserWarning: The use of label encoder in XGBClassifier is deprecated and will be removed in a future release. To remove this warning, do the following: 1) Pass option use_label_encoder=False when constructing XGBClassifier object; and 2) Encode your labels (y) as integers starting with 0, i.e. 0, 1, 2, ..., [num_class - 1].\n",
            "  warnings.warn(label_encoder_deprecation_msg, UserWarning)\n"
          ],
          "name": "stderr"
        },
        {
          "output_type": "stream",
          "text": [
            "Updating fitness with value -0.802785393714261\n",
            "69 remaining budget and 0 running jobs\n",
            "Launching 1 jobs with new suggestions\n"
          ],
          "name": "stdout"
        },
        {
          "output_type": "stream",
          "text": [
            "/usr/local/lib/python3.7/dist-packages/tensorflow/python/keras/engine/sequential.py:430: UserWarning: `model.predict_proba()` is deprecated and will be removed after 2021-01-01. Please use `model.predict()` instead.\n",
            "  warnings.warn('`model.predict_proba()` is deprecated and '\n"
          ],
          "name": "stderr"
        },
        {
          "output_type": "stream",
          "text": [
            "Model: \"sequential_71\"\n",
            "_________________________________________________________________\n",
            "Layer (type)                 Output Shape              Param #   \n",
            "=================================================================\n",
            "flatten_71 (Flatten)         (None, 512)               0         \n",
            "_________________________________________________________________\n",
            "dense_142 (Dense)            (None, 256)               131328    \n",
            "_________________________________________________________________\n",
            "dense_143 (Dense)            (None, 10)                2570      \n",
            "=================================================================\n",
            "Total params: 133,898\n",
            "Trainable params: 133,898\n",
            "Non-trainable params: 0\n",
            "_________________________________________________________________\n",
            "None\n"
          ],
          "name": "stdout"
        },
        {
          "output_type": "stream",
          "text": [
            "/usr/local/lib/python3.7/dist-packages/xgboost/sklearn.py:1146: UserWarning: The use of label encoder in XGBClassifier is deprecated and will be removed in a future release. To remove this warning, do the following: 1) Pass option use_label_encoder=False when constructing XGBClassifier object; and 2) Encode your labels (y) as integers starting with 0, i.e. 0, 1, 2, ..., [num_class - 1].\n",
            "  warnings.warn(label_encoder_deprecation_msg, UserWarning)\n"
          ],
          "name": "stderr"
        },
        {
          "output_type": "stream",
          "text": [
            "Updating fitness with value -1.0646372345191562\n",
            "68 remaining budget and 0 running jobs\n",
            "Launching 1 jobs with new suggestions\n"
          ],
          "name": "stdout"
        },
        {
          "output_type": "stream",
          "text": [
            "/usr/local/lib/python3.7/dist-packages/tensorflow/python/keras/engine/sequential.py:430: UserWarning: `model.predict_proba()` is deprecated and will be removed after 2021-01-01. Please use `model.predict()` instead.\n",
            "  warnings.warn('`model.predict_proba()` is deprecated and '\n"
          ],
          "name": "stderr"
        },
        {
          "output_type": "stream",
          "text": [
            "Model: \"sequential_72\"\n",
            "_________________________________________________________________\n",
            "Layer (type)                 Output Shape              Param #   \n",
            "=================================================================\n",
            "flatten_72 (Flatten)         (None, 512)               0         \n",
            "_________________________________________________________________\n",
            "dense_144 (Dense)            (None, 256)               131328    \n",
            "_________________________________________________________________\n",
            "dense_145 (Dense)            (None, 10)                2570      \n",
            "=================================================================\n",
            "Total params: 133,898\n",
            "Trainable params: 133,898\n",
            "Non-trainable params: 0\n",
            "_________________________________________________________________\n",
            "None\n"
          ],
          "name": "stdout"
        },
        {
          "output_type": "stream",
          "text": [
            "/usr/local/lib/python3.7/dist-packages/xgboost/sklearn.py:1146: UserWarning: The use of label encoder in XGBClassifier is deprecated and will be removed in a future release. To remove this warning, do the following: 1) Pass option use_label_encoder=False when constructing XGBClassifier object; and 2) Encode your labels (y) as integers starting with 0, i.e. 0, 1, 2, ..., [num_class - 1].\n",
            "  warnings.warn(label_encoder_deprecation_msg, UserWarning)\n"
          ],
          "name": "stderr"
        },
        {
          "output_type": "stream",
          "text": [
            "Updating fitness with value -0.879007027566248\n",
            "67 remaining budget and 0 running jobs\n",
            "Launching 1 jobs with new suggestions\n"
          ],
          "name": "stdout"
        },
        {
          "output_type": "stream",
          "text": [
            "/usr/local/lib/python3.7/dist-packages/tensorflow/python/keras/engine/sequential.py:430: UserWarning: `model.predict_proba()` is deprecated and will be removed after 2021-01-01. Please use `model.predict()` instead.\n",
            "  warnings.warn('`model.predict_proba()` is deprecated and '\n",
            "/usr/local/lib/python3.7/dist-packages/nevergrad/optimization/base.py:317: LossTooLargeWarning: Clipping very high value inf in tell (rescale the cost function?).\n",
            "  errors.LossTooLargeWarning,\n"
          ],
          "name": "stderr"
        },
        {
          "output_type": "stream",
          "text": [
            "Updating fitness with value inf\n",
            "66 remaining budget and 0 running jobs\n",
            "Launching 1 jobs with new suggestions\n",
            "Updating fitness with value inf\n",
            "65 remaining budget and 0 running jobs\n",
            "Launching 1 jobs with new suggestions\n",
            "Updating fitness with value inf\n",
            "64 remaining budget and 0 running jobs\n",
            "Launching 1 jobs with new suggestions\n"
          ],
          "name": "stdout"
        }
      ]
    },
    {
      "cell_type": "code",
      "metadata": {
        "colab": {
          "base_uri": "https://localhost:8080/",
          "height": 279
        },
        "id": "k7nzihg86H9k",
        "outputId": "bc9173ed-cbb7-4b13-a78d-bb23e41ccb75"
      },
      "source": [
        "import matplotlib.pyplot as plt\n",
        "plt.scatter(utility, privacy)\n",
        "plt.xlabel('Utility (Accuracy of defender model)')\n",
        "plt.ylabel('Privacy (AUC of attacker model)')\n",
        "plt.show()"
      ],
      "execution_count": 22,
      "outputs": [
        {
          "output_type": "display_data",
          "data": {
            "image/png": "[encoded data removed]",
            "text/plain": [
              "<Figure size 432x288 with 1 Axes>"
            ]
          },
          "metadata": {
            "tags": [],
            "needs_background": "light"
          }
        }
      ]
    },
    {
      "cell_type": "code",
      "metadata": {
        "colab": {
          "base_uri": "https://localhost:8080/"
        },
        "id": "kwW5Enb3pJq3",
        "outputId": "49cd513a-6456-4c9a-d156-4a53861253c0"
      },
      "source": [
        "print(recommendation.kwargs)"
      ],
      "execution_count": 26,
      "outputs": [
        {
          "output_type": "stream",
          "text": [
            "{'n_hidden_units': 512, 'n_epochs': 36, 'lr': 0.015434893032603836}\n"
          ],
          "name": "stdout"
        }
      ]
    },
    {
      "cell_type": "code",
      "metadata": {
        "colab": {
          "base_uri": "https://localhost:8080/"
        },
        "id": "AKAGe3V_mf0W",
        "outputId": "642f4b5b-2a6d-4baa-a019-72ddf015b9bf"
      },
      "source": [
        "print(total_time_bbo)"
      ],
      "execution_count": null,
      "outputs": [
        {
          "output_type": "stream",
          "text": [
            "1864.5915877819061\n"
          ],
          "name": "stdout"
        }
      ]
    }
  ]
}